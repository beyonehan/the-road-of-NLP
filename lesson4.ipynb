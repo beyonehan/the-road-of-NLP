{
 "cells": [
  {
   "cell_type": "code",
   "execution_count": 1,
   "metadata": {},
   "outputs": [],
   "source": [
    "from collections import defaultdict\n",
    "from functools import lru_cache\n",
    "from functools import wraps\n",
    "def memo(func):\n",
    "    cache = {}\n",
    "    @wraps(func)\n",
    "    def __wrap(*args, **kwargs):\n",
    "        str_key = str(args) + str(kwargs)\n",
    "        if str_key not in cache:\n",
    "            result = func(*args, **kwargs)\n",
    "            cache[str_key] = result\n",
    "        return cache[str_key]\n",
    "    return __wrap\n",
    "\n",
    "prices = defaultdict(lambda : -float('inf')) #defaultdict定义字典类型，避免不曾存在的键报错。lambda设置默认的值。-float('inf')意思是？\n",
    "for i, v in enumerate([1, 5, 8, 9, 10, 17, 17, 20, 24, 30]): #既返回索引又返回值\n",
    "    prices[i+1] = v\n"
   ]
  },
  {
   "cell_type": "code",
   "execution_count": 2,
   "metadata": {},
   "outputs": [
    {
     "name": "stdout",
     "output_type": "stream",
     "text": [
      "defaultdict(<function <lambda> at 0x104a9c400>, {1: 1, 2: 5, 3: 8, 4: 9, 5: 10, 6: 17, 7: 17, 8: 20, 9: 24, 10: 30})\n"
     ]
    }
   ],
   "source": [
    "print(prices)"
   ]
  },
  {
   "cell_type": "code",
   "execution_count": 9,
   "metadata": {},
   "outputs": [],
   "source": [
    "solution = {}\n",
    "@memo\n",
    "def revenue(r):\n",
    "    split, r_star = max([(0, prices[r])] + [(i, revenue(i) + revenue(r-i)) for i in range(1, r)], key=lambda x: x[1]) #lambda函数第一个参数需要处理的变量，第二个函数为指定处理的元素，lambda为匿名函数\n",
    "    solution[r] = (split, r-split)\n",
    "#     print('  solution[{}] = {} split = {} , r_start = {}'.format(r, solution[r],split,r_star))\n",
    "    return r_star\n"
   ]
  },
  {
   "cell_type": "code",
   "execution_count": 25,
   "metadata": {},
   "outputs": [
    {
     "name": "stdout",
     "output_type": "stream",
     "text": [
      "300\n"
     ]
    }
   ],
   "source": [
    "print(revenue(100))"
   ]
  },
  {
   "cell_type": "code",
   "execution_count": 26,
   "metadata": {},
   "outputs": [
    {
     "name": "stdout",
     "output_type": "stream",
     "text": [
      "{1: (0, 1), 2: (0, 2), 3: (0, 3), 4: (2, 2), 5: (2, 3), 6: (0, 6), 7: (1, 6), 8: (2, 6), 9: (3, 6), 10: (0, 10), 11: (1, 10), 12: (2, 10), 13: (3, 10), 14: (2, 12), 15: (2, 13), 16: (6, 10), 17: (1, 16), 18: (2, 16), 19: (3, 16), 20: (10, 10), 21: (1, 20), 22: (2, 20), 23: (3, 20), 24: (2, 22), 25: (2, 23), 26: (6, 20), 27: (1, 26), 28: (2, 26), 29: (3, 26), 30: (10, 20), 31: (1, 30), 32: (2, 30), 33: (3, 30), 34: (2, 32), 35: (2, 33), 36: (6, 30), 37: (1, 36), 38: (2, 36), 39: (3, 36), 40: (10, 30), 41: (1, 40), 42: (2, 40), 43: (3, 40), 44: (2, 42), 45: (2, 43), 46: (6, 40), 47: (1, 46), 48: (2, 46), 49: (3, 46), 50: (10, 40), 51: (1, 50), 52: (2, 50), 53: (3, 50), 54: (2, 52), 55: (2, 53), 56: (6, 50), 57: (1, 56), 58: (2, 56), 59: (3, 56), 60: (10, 50), 61: (1, 60), 62: (2, 60), 63: (3, 60), 64: (2, 62), 65: (2, 63), 66: (6, 60), 67: (1, 66), 68: (2, 66), 69: (3, 66), 70: (10, 60), 71: (1, 70), 72: (2, 70), 73: (3, 70), 74: (2, 72), 75: (2, 73), 76: (6, 70), 77: (1, 76), 78: (2, 76), 79: (3, 76), 80: (10, 70), 81: (1, 80), 82: (2, 80), 83: (3, 80), 84: (2, 82), 85: (2, 83), 86: (6, 80), 87: (1, 86), 88: (2, 86), 89: (3, 86), 90: (10, 80), 91: (1, 90), 92: (2, 90), 93: (3, 90), 94: (2, 92), 95: (2, 93), 96: (6, 90), 97: (1, 96), 98: (2, 96), 99: (3, 96), 100: (10, 90)}\n"
     ]
    }
   ],
   "source": [
    "print(solution)"
   ]
  },
  {
   "cell_type": "code",
   "execution_count": 27,
   "metadata": {},
   "outputs": [],
   "source": [
    "def parse_solution(r, revenue_solution):\n",
    "    left, right = revenue_solution[r]\n",
    "    if left == 0: return [right]\n",
    "    return [left] + parse_solution(right, revenue_solution)\n"
   ]
  },
  {
   "cell_type": "code",
   "execution_count": 31,
   "metadata": {},
   "outputs": [
    {
     "name": "stdout",
     "output_type": "stream",
     "text": [
      "[10, 10, 10]\n"
     ]
    }
   ],
   "source": [
    "print(parse_solution(30, solution))"
   ]
  },
  {
   "cell_type": "code",
   "execution_count": 32,
   "metadata": {},
   "outputs": [],
   "source": [
    "def draw_solution(splits):\n",
    "    return '->'.join(map(str,splits))"
   ]
  },
  {
   "cell_type": "code",
   "execution_count": 34,
   "metadata": {},
   "outputs": [
    {
     "data": {
      "text/plain": [
       "'2->3->10'"
      ]
     },
     "execution_count": 34,
     "metadata": {},
     "output_type": "execute_result"
    }
   ],
   "source": [
    "draw_solution(parse_solution(15,solution))"
   ]
  },
  {
   "cell_type": "markdown",
   "metadata": {},
   "source": [
    "## Edit Distance"
   ]
  },
  {
   "cell_type": "code",
   "execution_count": 41,
   "metadata": {},
   "outputs": [],
   "source": [
    "@memo\n",
    "def get_edit_distance(string1,string2):\n",
    "    if len(string1) == 0: return len(string2)\n",
    "    if len(string2) == 0: return len(string1)\n",
    "    \n",
    "    return min(\n",
    "        [get_edit_distance(string1[:-1], string2) + 1, \n",
    "         get_edit_distance(string1, string2[:-1]) + 1, \n",
    "         get_edit_distance(string1[:-1], string2[:-1]) + (0 if string1[-1] == string2[-1] else 2)]\n",
    "    )"
   ]
  },
  {
   "cell_type": "code",
   "execution_count": 42,
   "metadata": {},
   "outputs": [
    {
     "data": {
      "text/plain": [
       "2"
      ]
     },
     "execution_count": 42,
     "metadata": {},
     "output_type": "execute_result"
    }
   ],
   "source": [
    "get_edit_distance('biejing', 'beijing')"
   ]
  },
  {
   "cell_type": "code",
   "execution_count": 43,
   "metadata": {},
   "outputs": [
    {
     "data": {
      "text/plain": [
       "5"
      ]
     },
     "execution_count": 43,
     "metadata": {},
     "output_type": "execute_result"
    }
   ],
   "source": [
    "get_edit_distance('biejing', 'beijie')"
   ]
  },
  {
   "cell_type": "code",
   "execution_count": null,
   "metadata": {},
   "outputs": [],
   "source": []
  }
 ],
 "metadata": {
  "kernelspec": {
   "display_name": "Python(py3)",
   "language": "python",
   "name": "py3"
  },
  "language_info": {
   "codemirror_mode": {
    "name": "ipython",
    "version": 3
   },
   "file_extension": ".py",
   "mimetype": "text/x-python",
   "name": "python",
   "nbconvert_exporter": "python",
   "pygments_lexer": "ipython3",
   "version": "3.6.7"
  }
 },
 "nbformat": 4,
 "nbformat_minor": 2
}
