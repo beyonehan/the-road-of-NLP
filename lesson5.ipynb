{
 "cells": [
  {
   "cell_type": "code",
   "execution_count": 36,
   "metadata": {},
   "outputs": [
    {
     "name": "stdout",
     "output_type": "stream",
     "text": [
      "\u001b[31m10k_articles.txt\u001b[m\u001b[m                        \u001b[31msqlResult_1558435.csv\u001b[m\u001b[m\r\n",
      "\u001b[31m80k_articles.txt\u001b[m\u001b[m                        \u001b[31mtitanic_train.csv\u001b[m\u001b[m\r\n",
      "\u001b[31mComputer Machinery and Intelligence.pdf\u001b[m\u001b[m \u001b[31mtrain_corpus.txt\u001b[m\u001b[m\r\n",
      "\u001b[31mUntitled.ipynb\u001b[m\u001b[m                          \u001b[31mwiki_00\u001b[m\u001b[m\r\n",
      "\u001b[31mlession1.ipynb\u001b[m\u001b[m                          \u001b[31mwiki_01\u001b[m\u001b[m\r\n",
      "\u001b[31mlesson2.ipynb\u001b[m\u001b[m                           \u001b[31mwiki_02\u001b[m\u001b[m\r\n",
      "\u001b[31mlesson3.ipynb\u001b[m\u001b[m                           \u001b[31mzhwiki-20181201-pages-articles.xml\u001b[m\u001b[m\r\n",
      "\u001b[31msimple_machine_leanring.py\u001b[m\u001b[m              \u001b[31m论文阅读笔记模板.docx\u001b[m\u001b[m\r\n"
     ]
    }
   ],
   "source": [
    "!ls"
   ]
  },
  {
   "cell_type": "code",
   "execution_count": 30,
   "metadata": {},
   "outputs": [
    {
     "name": "stdout",
     "output_type": "stream",
     "text": [
      "<doc id=\"13\" url=\"https://zh.wikipedia.org/wiki?curid=13\" title=\"数学\">\n",
      "数学\n",
      "\n",
      "数学是利用符号语言研究數量、结构、变化以及空间等概念的一門学科，从某种角度看屬於形式科學的一種。數學透過抽象化和邏輯推理的使用，由計數、計算、量度和對物體形狀及運動的觀察而產生。數學家們拓展這些概念，為了公式化新的猜想以及從選定的公理及定義中建立起嚴謹推導出的定理。\n",
      "\n",
      "基礎數學的知識與運用總是個人與團體生活中不可或缺的一環。對數學基本概念的完善，早在古埃及、美索不達米亞及古印度內的古代數學文本便可觀見，而在古希臘那裡有更為嚴謹的處理。從那時開始，數學的發展便持續不斷地小幅進展，至16世紀的文藝復興時期，因为新的科學發現和數學革新兩者的交互，致使數學的加速发展，直至今日。数学并成为許多國家及地區的教育範疇中的一部分。\n",
      "\n",
      "今日，數學使用在不同的領域中，包括科學、工程、醫學和經濟學等。數學對這些領域的應用通常被稱為應用數學，有時亦會激起新的數學發現，並導致全新學科的發展，例如物理学的实质性发展中建立的某些理论激发数学家对于某些问题的不同角度的思考。數學家也研究純數學，就是數學本身的实质性內容，而不以任何實際應用為目標。雖然許多研究以純數學開始，但其过程中也發現許多應用之处。\n",
      "\n",
      "\u001b[K法语中的表面複數形式'，可溯至拉丁文的中性複數'，由西塞罗譯自希臘文複數（），此一:\u001b[K較狹義且技術性的意思－「數學研究」，即使在其語源內。其形容詞（），意思為\"和學習有關的\"或\"用功的\"，亦會被用來指\"數學的\"。其在英语中表面上的複數形式，及在\u001b[7mwiki_00\u001b[m\u001b[K\u0007"
     ]
    }
   ],
   "source": [
    "!less wiki_00"
   ]
  },
  {
   "cell_type": "code",
   "execution_count": 37,
   "metadata": {},
   "outputs": [],
   "source": [
    "import jieba"
   ]
  },
  {
   "cell_type": "code",
   "execution_count": 38,
   "metadata": {},
   "outputs": [],
   "source": [
    "def write_token_to_f(open_file, output_file):\n",
    "    words = []\n",
    "    for line in open(open_file):\n",
    "            w = list(jieba.cut(line))\n",
    "            words += w + ['\\n']\n",
    "            ## 繁体字转换成简体字\n",
    "    output_file.writelines(' '.join(words))"
   ]
  },
  {
   "cell_type": "code",
   "execution_count": 39,
   "metadata": {},
   "outputs": [],
   "source": [
    "import time\n",
    "import os, sys"
   ]
  },
  {
   "cell_type": "code",
   "execution_count": 40,
   "metadata": {},
   "outputs": [
    {
     "name": "stdout",
     "output_type": "stream",
     "text": [
      "['.DS_Store', '._.DS_Store', '.git', '.ipynb_checkpoints', '10k_articles.txt', '._10k_articles.txt', '80k_articles.txt', '._80k_articles.txt', 'Computer Machinery and Intelligence.pdf', '._Computer Machinery and Intelligence.pdf', 'lession1.ipynb', '._lession1.ipynb', 'Untitled.ipynb', 'lesson3.ipynb', 'simple_machine_leanring.py', '._simple_machine_leanring.py', 'sqlResult_1558435.csv', '._sqlResult_1558435.csv', 'titanic_train.csv', '._titanic_train.csv', '论文阅读笔记模板.docx', '._论文阅读笔记模板.docx', 'zhwiki-20181201-pages-articles.xml', 'wiki_00', 'wiki_01', 'wiki_02', 'lesson2.ipynb', 'train_corpus.txt']\n"
     ]
    }
   ],
   "source": [
    "target_files = os.listdir()\n",
    "len(target_files)\n",
    "\n",
    "print (target_files)"
   ]
  },
  {
   "cell_type": "code",
   "execution_count": 42,
   "metadata": {},
   "outputs": [],
   "source": [
    "from tqdm import tqdm"
   ]
  },
  {
   "cell_type": "code",
   "execution_count": null,
   "metadata": {},
   "outputs": [],
   "source": [
    "start = time.time()\n",
    "num = 0\n",
    "with open('train_corpus.txt', 'w') as output_f:\n",
    "    for f in target_files:\n",
    "        if num > 10: break\n",
    "        if not f.startswith('wiki'): continue\n",
    "        print('processing: {}'.format(num))\n",
    "        num += 1\n",
    "        write_token_to_f(f, output_f)\n",
    "end = time.time()\n",
    "print('used time {}'.format(end - start))"
   ]
  },
  {
   "cell_type": "code",
   "execution_count": 43,
   "metadata": {},
   "outputs": [],
   "source": [
    "from gensim.models import Word2Vec"
   ]
  },
  {
   "cell_type": "code",
   "execution_count": null,
   "metadata": {},
   "outputs": [],
   "source": []
  },
  {
   "cell_type": "code",
   "execution_count": null,
   "metadata": {},
   "outputs": [],
   "source": []
  }
 ],
 "metadata": {
  "kernelspec": {
   "display_name": "Python(py3)",
   "language": "python",
   "name": "py3"
  },
  "language_info": {
   "codemirror_mode": {
    "name": "ipython",
    "version": 3
   },
   "file_extension": ".py",
   "mimetype": "text/x-python",
   "name": "python",
   "nbconvert_exporter": "python",
   "pygments_lexer": "ipython3",
   "version": "3.6.7"
  }
 },
 "nbformat": 4,
 "nbformat_minor": 2
}
