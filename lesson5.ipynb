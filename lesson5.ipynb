{
 "cells": [
  {
   "cell_type": "code",
   "execution_count": 10,
   "metadata": {},
   "outputs": [
    {
     "name": "stdout",
     "output_type": "stream",
     "text": [
      "\u001b[31mComputer Machinery and Intelligence.pdf\u001b[m\u001b[m \u001b[31mlesson5.ipynb\u001b[m\u001b[m\r\n",
      "\u001b[31mlession1.ipynb\u001b[m\u001b[m                          \u001b[31mtrain_corpus.txt\u001b[m\u001b[m\r\n",
      "\u001b[31mlesson2.ipynb\u001b[m\u001b[m                           \u001b[30m\u001b[43mzhwiki\u001b[m\u001b[m\r\n",
      "\u001b[31mlesson3+simple.ipynb\u001b[m\u001b[m                    \u001b[31m论文阅读笔记模板.docx\u001b[m\u001b[m\r\n",
      "\u001b[31mlesson4.ipynb\u001b[m\u001b[m\r\n"
     ]
    }
   ],
   "source": [
    "!ls"
   ]
  },
  {
   "cell_type": "code",
   "execution_count": null,
   "metadata": {},
   "outputs": [
    {
     "name": "stdout",
     "output_type": "stream",
     "text": [
      "\u001b7\u001b[?47h\u001b[?1h\u001b=\r",
      "<doc id=\"13\" url=\"https://zh.wikipedia.org/wiki?curid=13\" title=\"数学\">\r\n",
      "数学\r\n",
      "\r\n",
      "数学是利用符号语言研究數量、结构、变化以及空间等概念的一門学科，从某种角度看屬於 \b形式科學的一種。數學透過抽象化和邏輯推理的使用，由計數、計算、量度和對物體形狀及 \b運動的觀察而產生。數學家們拓展這些概念，為了公式化新的猜想以及從選定的公理及定義 \b中建立起嚴謹推導出的定理。\r\n",
      "\r\n",
      "基礎數學的知識與運用總是個人與團體生活中不可或缺的一環。對數學基本概念的完善，早 \b在古埃及、美索不達米亞及古印度內的古代數學文本便可觀見，而在古希臘那裡有更為嚴謹 \b的處理。從那時開始，數學的發展便持續不斷地小幅進展，至16世紀的文藝復興時期，因为 \b新的科學發現和數學革新兩者的交互，致使數學的加速发展，直至今日。数学并成为許多國 \b家及地區的教育範疇中的一部分。\r\n",
      "\r\n",
      "今日，數學使用在不同的領域中，包括科學、工程、醫學和經濟學等。數學對這些領域的應 \b用通常被稱為應用數學，有時亦會激起新的數學發現，並導致全新學科的發展，例如物理学 \b的实质性发展中建立的某些理论激发数学家对于某些问题的不同角度的思考。數學家也研究 \b純數學，就是數學本身的实质性內容，而不以任何實際應用為目標。雖然許多研究以純數學 \b開始，但其过程中也發現許多應用之处。\r\n",
      "\r\n",
      "西方语言中“數學”（）一詞源自於古希臘語的（），其有“學習”、“學問”、“科學”，以及另 \b外還有個較狹義且技術性的意思－「數學研究」，即使在其語源內。其形容詞（），意思為 \b\"和學習有關的\"或\"用功的\"，亦會被用來指\"數學的\"。其在英语中表面上的複數形式，及在 \b\u001b[7mzhwiki/AA/wiki_00\u001b[m\u001b[K"
     ]
    }
   ],
   "source": [
    "!less zhwiki/AA/wiki_00"
   ]
  },
  {
   "cell_type": "code",
   "execution_count": 20,
   "metadata": {
    "collapsed": true
   },
   "outputs": [],
   "source": [
    "import jieba\n",
    "from hanziconv import HanziConv"
   ]
  },
  {
   "cell_type": "code",
   "execution_count": 21,
   "metadata": {
    "collapsed": true
   },
   "outputs": [],
   "source": [
    "def write_token_to_f(open_file, output_file):\n",
    "    words = []\n",
    "    for line in open(open_file):\n",
    "            simple_line = HanziConv.toSimplified(line)\n",
    "            w = list(jieba.cut(simple_line))\n",
    "            words += w + ['\\n']\n",
    "            ## 繁体字转换成简体字\n",
    "    output_file.writelines(' '.join(words))"
   ]
  },
  {
   "cell_type": "code",
   "execution_count": 4,
   "metadata": {
    "collapsed": true
   },
   "outputs": [],
   "source": [
    "import time\n",
    "import os, sys"
   ]
  },
  {
   "cell_type": "code",
   "execution_count": 25,
   "metadata": {},
   "outputs": [
    {
     "name": "stdout",
     "output_type": "stream",
     "text": [
      "['AA', 'AB', 'AC', 'AD', 'AE', 'AF', 'AG', 'AH', 'AI', 'AJ', 'AK', 'AL', 'AM']\n"
     ]
    }
   ],
   "source": [
    "target_files = os.listdir('zhwiki')\n",
    "len(target_files)\n",
    "\n",
    "print (target_files)"
   ]
  },
  {
   "cell_type": "code",
   "execution_count": 16,
   "metadata": {
    "collapsed": true
   },
   "outputs": [],
   "source": [
    "from tqdm import tqdm"
   ]
  },
  {
   "cell_type": "code",
   "execution_count": 28,
   "metadata": {},
   "outputs": [
    {
     "name": "stdout",
     "output_type": "stream",
     "text": [
      "used time 1153.865723848343\n"
     ]
    }
   ],
   "source": [
    "start = time.time()\n",
    "\n",
    "with open('train_corpus.txt', 'w') as output_f:\n",
    "    for file in target_files:\n",
    "        subfiles = os.listdir('zhwiki'+'/'+file)\n",
    "        num = 0\n",
    "        for f in subfiles:\n",
    "            if num > 37: break\n",
    "            if not f.startswith('wiki'): continue\n",
    "            write_token_to_f('zhwiki'+'/'+file+'/'+f, output_f)\n",
    "            num += 1\n",
    "end = time.time()\n",
    "print('used time {}'.format(end-start))"
   ]
  },
  {
   "cell_type": "code",
   "execution_count": 6,
   "metadata": {
    "collapsed": true
   },
   "outputs": [],
   "source": [
    "from gensim.models import Word2Vec"
   ]
  },
  {
   "cell_type": "code",
   "execution_count": 7,
   "metadata": {
    "collapsed": true
   },
   "outputs": [],
   "source": [
    "from gensim.models.word2vec import LineSentence"
   ]
  },
  {
   "cell_type": "code",
   "execution_count": 8,
   "metadata": {},
   "outputs": [
    {
     "name": "stdout",
     "output_type": "stream",
     "text": [
      "547.2444698810577\n"
     ]
    }
   ],
   "source": [
    "s = time.time()\n",
    "mini_model = Word2Vec(LineSentence('train_corpus.txt'), min_count=1, size=20)\n",
    "e = time.time()\n",
    "print(e-s)"
   ]
  },
  {
   "cell_type": "code",
   "execution_count": 15,
   "metadata": {},
   "outputs": [
    {
     "data": {
      "text/plain": [
       "array([ 7.275212  , -4.414605  , -4.952006  , -2.9327843 ,  2.2562108 ,\n",
       "        0.9243348 , -1.6305302 , -1.4908649 ,  2.7017243 , -1.7158273 ,\n",
       "       -1.3078575 , -0.9897272 ,  0.13027737,  3.643023  ,  3.736798  ,\n",
       "        8.445121  ,  4.1775246 , -2.934015  ,  5.334319  ,  5.6742325 ],\n",
       "      dtype=float32)"
      ]
     },
     "execution_count": 15,
     "metadata": {},
     "output_type": "execute_result"
    }
   ],
   "source": [
    "mini_model.wv['数学']"
   ]
  },
  {
   "cell_type": "code",
   "execution_count": 16,
   "metadata": {},
   "outputs": [
    {
     "name": "stderr",
     "output_type": "stream",
     "text": [
      "/anaconda2/envs/py3/lib/python3.6/site-packages/ipykernel_launcher.py:1: DeprecationWarning: Call to deprecated `most_similar` (Method will be removed in 4.0.0, use self.wv.most_similar() instead).\n",
      "  \"\"\"Entry point for launching an IPython kernel.\n"
     ]
    },
    {
     "data": {
      "text/plain": [
       "[('微积分', 0.9191350936889648),\n",
       " ('理论物理学', 0.9179785251617432),\n",
       " ('群论', 0.9073567986488342),\n",
       " ('物理学', 0.9072630405426025),\n",
       " ('数学分析', 0.9058704376220703),\n",
       " ('计算机科学', 0.8927316665649414),\n",
       " ('数论', 0.886023759841919),\n",
       " ('概率论', 0.8856654167175293),\n",
       " ('统计学', 0.882989764213562),\n",
       " ('逻辑学', 0.8823090195655823)]"
      ]
     },
     "execution_count": 16,
     "metadata": {},
     "output_type": "execute_result"
    }
   ],
   "source": [
    "mini_model.most_similar('数学')"
   ]
  },
  {
   "cell_type": "code",
   "execution_count": null,
   "metadata": {
    "collapsed": true
   },
   "outputs": [],
   "source": []
  }
 ],
 "metadata": {
  "kernelspec": {
   "display_name": "Python(py3)",
   "language": "python",
   "name": "py3"
  },
  "language_info": {
   "codemirror_mode": {
    "name": "ipython",
    "version": 3
   },
   "file_extension": ".py",
   "mimetype": "text/x-python",
   "name": "python",
   "nbconvert_exporter": "python",
   "pygments_lexer": "ipython3",
   "version": "3.6.7"
  }
 },
 "nbformat": 4,
 "nbformat_minor": 2
}
