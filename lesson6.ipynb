{
 "cells": [
  {
   "cell_type": "code",
   "execution_count": 1,
   "metadata": {},
   "outputs": [
    {
     "name": "stdout",
     "output_type": "stream",
     "text": [
      "\u001b[31mComputer Machinery and Intelligence.pdf\u001b[m\u001b[m \u001b[31mlesson6.ipynb\u001b[m\u001b[m\r\n",
      "\u001b[31mexport_sql_1558435.zip\u001b[m\u001b[m                  \u001b[31msqlResult_1558435.csv\u001b[m\u001b[m\r\n",
      "\u001b[31mlession1.ipynb\u001b[m\u001b[m                          \u001b[31msqlResult_1558435.zip\u001b[m\u001b[m\r\n",
      "\u001b[31mlesson2.ipynb\u001b[m\u001b[m                           \u001b[31mtrain_corpus.txt\u001b[m\u001b[m\r\n",
      "\u001b[31mlesson3+simple.ipynb\u001b[m\u001b[m                    \u001b[30m\u001b[43mzhwiki\u001b[m\u001b[m\r\n",
      "\u001b[31mlesson4.ipynb\u001b[m\u001b[m                           \u001b[31m未命名.ipynb\u001b[m\u001b[m\r\n",
      "\u001b[31mlesson5.ipynb\u001b[m\u001b[m                           \u001b[31m论文阅读笔记模板.docx\u001b[m\u001b[m\r\n"
     ]
    }
   ],
   "source": [
    "!ls"
   ]
  },
  {
   "cell_type": "code",
   "execution_count": 2,
   "metadata": {},
   "outputs": [
    {
     "name": "stdout",
     "output_type": "stream",
     "text": [
      "Python 3.6.6 | packaged by conda-forge | (default, Jul 26 2018, 09:55:02) \n",
      "[GCC 4.2.1 Compatible Apple LLVM 6.1.0 (clang-602.0.53)] on darwin\n",
      "Type \"help\", \"copyright\", \"credits\" or \"license\" for more information.\n",
      ">>> \n",
      "KeyboardInterrupt\n",
      ">>> \n",
      ">>> "
     ]
    }
   ],
   "source": [
    "!python"
   ]
  },
  {
   "cell_type": "code",
   "execution_count": 3,
   "metadata": {},
   "outputs": [],
   "source": [
    "import pandas as pd"
   ]
  },
  {
   "cell_type": "code",
   "execution_count": 4,
   "metadata": {},
   "outputs": [],
   "source": [
    "file = ('sqlResult_1558435.csv')"
   ]
  },
  {
   "cell_type": "code",
   "execution_count": 5,
   "metadata": {},
   "outputs": [
    {
     "name": "stdout",
     "output_type": "stream",
     "text": [
      "sqlResult_1558435.csv\n"
     ]
    }
   ],
   "source": [
    "print(file)"
   ]
  },
  {
   "cell_type": "code",
   "execution_count": 6,
   "metadata": {},
   "outputs": [],
   "source": [
    "content = pd.read_csv('sqlResult_1558435.csv',encoding='gb18030')"
   ]
  },
  {
   "cell_type": "code",
   "execution_count": 7,
   "metadata": {},
   "outputs": [
    {
     "data": {
      "text/html": [
       "<div>\n",
       "<style scoped>\n",
       "    .dataframe tbody tr th:only-of-type {\n",
       "        vertical-align: middle;\n",
       "    }\n",
       "\n",
       "    .dataframe tbody tr th {\n",
       "        vertical-align: top;\n",
       "    }\n",
       "\n",
       "    .dataframe thead th {\n",
       "        text-align: right;\n",
       "    }\n",
       "</style>\n",
       "<table border=\"1\" class=\"dataframe\">\n",
       "  <thead>\n",
       "    <tr style=\"text-align: right;\">\n",
       "      <th></th>\n",
       "      <th>id</th>\n",
       "      <th>author</th>\n",
       "      <th>source</th>\n",
       "      <th>content</th>\n",
       "      <th>feature</th>\n",
       "      <th>title</th>\n",
       "      <th>url</th>\n",
       "    </tr>\n",
       "  </thead>\n",
       "  <tbody>\n",
       "    <tr>\n",
       "      <th>0</th>\n",
       "      <td>89617</td>\n",
       "      <td>NaN</td>\n",
       "      <td>快科技@http://www.kkj.cn/</td>\n",
       "      <td>此外，自本周（6月12日）起，除小米手机6等15款机型外，其余机型已暂停更新发布（含开发版/...</td>\n",
       "      <td>{\"type\":\"科技\",\"site\":\"cnbeta\",\"commentNum\":\"37\"...</td>\n",
       "      <td>小米MIUI 9首批机型曝光：共计15款</td>\n",
       "      <td>http://www.cnbeta.com/articles/tech/623597.htm</td>\n",
       "    </tr>\n",
       "    <tr>\n",
       "      <th>1</th>\n",
       "      <td>89616</td>\n",
       "      <td>NaN</td>\n",
       "      <td>快科技@http://www.kkj.cn/</td>\n",
       "      <td>骁龙835作为唯一通过Windows 10桌面平台认证的ARM处理器，高通强调，不会因为只考...</td>\n",
       "      <td>{\"type\":\"科技\",\"site\":\"cnbeta\",\"commentNum\":\"15\"...</td>\n",
       "      <td>骁龙835在Windows 10上的性能表现有望改善</td>\n",
       "      <td>http://www.cnbeta.com/articles/tech/623599.htm</td>\n",
       "    </tr>\n",
       "    <tr>\n",
       "      <th>2</th>\n",
       "      <td>89615</td>\n",
       "      <td>NaN</td>\n",
       "      <td>快科技@http://www.kkj.cn/</td>\n",
       "      <td>此前的一加3T搭载的是3400mAh电池，DashCharge快充规格为5V/4A。\\r\\n...</td>\n",
       "      <td>{\"type\":\"科技\",\"site\":\"cnbeta\",\"commentNum\":\"18\"...</td>\n",
       "      <td>一加手机5细节曝光：3300mAh、充半小时用1天</td>\n",
       "      <td>http://www.cnbeta.com/articles/tech/623601.htm</td>\n",
       "    </tr>\n",
       "    <tr>\n",
       "      <th>3</th>\n",
       "      <td>89614</td>\n",
       "      <td>NaN</td>\n",
       "      <td>新华社</td>\n",
       "      <td>这是6月18日在葡萄牙中部大佩德罗冈地区拍摄的被森林大火烧毁的汽车。新华社记者张立云摄\\r\\n</td>\n",
       "      <td>{\"type\":\"国际新闻\",\"site\":\"环球\",\"commentNum\":\"0\",\"j...</td>\n",
       "      <td>葡森林火灾造成至少62人死亡 政府宣布进入紧急状态（组图）</td>\n",
       "      <td>http://world.huanqiu.com/hot/2017-06/10866126....</td>\n",
       "    </tr>\n",
       "    <tr>\n",
       "      <th>4</th>\n",
       "      <td>89613</td>\n",
       "      <td>胡淑丽_MN7479</td>\n",
       "      <td>深圳大件事</td>\n",
       "      <td>（原标题：44岁女子跑深圳约会网友被拒，暴雨中裸身奔走……）\\r\\n@深圳交警微博称：昨日清...</td>\n",
       "      <td>{\"type\":\"新闻\",\"site\":\"网易热门\",\"commentNum\":\"978\",...</td>\n",
       "      <td>44岁女子约网友被拒暴雨中裸奔 交警为其披衣相随</td>\n",
       "      <td>http://news.163.com/17/0618/00/CN617P3Q0001875...</td>\n",
       "    </tr>\n",
       "  </tbody>\n",
       "</table>\n",
       "</div>"
      ],
      "text/plain": [
       "      id      author                  source  \\\n",
       "0  89617         NaN  快科技@http://www.kkj.cn/   \n",
       "1  89616         NaN  快科技@http://www.kkj.cn/   \n",
       "2  89615         NaN  快科技@http://www.kkj.cn/   \n",
       "3  89614         NaN                     新华社   \n",
       "4  89613  胡淑丽_MN7479                   深圳大件事   \n",
       "\n",
       "                                             content  \\\n",
       "0  此外，自本周（6月12日）起，除小米手机6等15款机型外，其余机型已暂停更新发布（含开发版/...   \n",
       "1  骁龙835作为唯一通过Windows 10桌面平台认证的ARM处理器，高通强调，不会因为只考...   \n",
       "2  此前的一加3T搭载的是3400mAh电池，DashCharge快充规格为5V/4A。\\r\\n...   \n",
       "3    这是6月18日在葡萄牙中部大佩德罗冈地区拍摄的被森林大火烧毁的汽车。新华社记者张立云摄\\r\\n   \n",
       "4  （原标题：44岁女子跑深圳约会网友被拒，暴雨中裸身奔走……）\\r\\n@深圳交警微博称：昨日清...   \n",
       "\n",
       "                                             feature  \\\n",
       "0  {\"type\":\"科技\",\"site\":\"cnbeta\",\"commentNum\":\"37\"...   \n",
       "1  {\"type\":\"科技\",\"site\":\"cnbeta\",\"commentNum\":\"15\"...   \n",
       "2  {\"type\":\"科技\",\"site\":\"cnbeta\",\"commentNum\":\"18\"...   \n",
       "3  {\"type\":\"国际新闻\",\"site\":\"环球\",\"commentNum\":\"0\",\"j...   \n",
       "4  {\"type\":\"新闻\",\"site\":\"网易热门\",\"commentNum\":\"978\",...   \n",
       "\n",
       "                           title  \\\n",
       "0           小米MIUI 9首批机型曝光：共计15款   \n",
       "1     骁龙835在Windows 10上的性能表现有望改善   \n",
       "2      一加手机5细节曝光：3300mAh、充半小时用1天   \n",
       "3  葡森林火灾造成至少62人死亡 政府宣布进入紧急状态（组图）   \n",
       "4       44岁女子约网友被拒暴雨中裸奔 交警为其披衣相随   \n",
       "\n",
       "                                                 url  \n",
       "0     http://www.cnbeta.com/articles/tech/623597.htm  \n",
       "1     http://www.cnbeta.com/articles/tech/623599.htm  \n",
       "2     http://www.cnbeta.com/articles/tech/623601.htm  \n",
       "3  http://world.huanqiu.com/hot/2017-06/10866126....  \n",
       "4  http://news.163.com/17/0618/00/CN617P3Q0001875...  "
      ]
     },
     "execution_count": 7,
     "metadata": {},
     "output_type": "execute_result"
    }
   ],
   "source": [
    "content.head()"
   ]
  },
  {
   "cell_type": "code",
   "execution_count": 8,
   "metadata": {},
   "outputs": [
    {
     "data": {
      "text/plain": [
       "id                                                     89617\n",
       "author                                                   NaN\n",
       "source                                快科技@http://www.kkj.cn/\n",
       "content    此外，自本周（6月12日）起，除小米手机6等15款机型外，其余机型已暂停更新发布（含开发版/...\n",
       "feature    {\"type\":\"科技\",\"site\":\"cnbeta\",\"commentNum\":\"37\"...\n",
       "title                                   小米MIUI 9首批机型曝光：共计15款\n",
       "url           http://www.cnbeta.com/articles/tech/623597.htm\n",
       "Name: 0, dtype: object"
      ]
     },
     "execution_count": 8,
     "metadata": {},
     "output_type": "execute_result"
    }
   ],
   "source": [
    "content.iloc[0]"
   ]
  },
  {
   "cell_type": "code",
   "execution_count": 9,
   "metadata": {},
   "outputs": [
    {
     "data": {
      "text/plain": [
       "'此外，自本周（6月12日）起，除小米手机6等15款机型外，其余机型已暂停更新发布（含开发版/体验版内测，稳定版暂不受影响），以确保工程师可以集中全部精力进行系统优化工作。有人猜测这也是将精力主要用到MIUI 9的研发之中。\\r\\nMIUI 8去年5月发布，距今已有一年有余，也是时候更新换代了。\\r\\n当然，关于MIUI 9的确切信息，我们还是等待官方消息。\\r\\n'"
      ]
     },
     "execution_count": 9,
     "metadata": {},
     "output_type": "execute_result"
    }
   ],
   "source": [
    "content.iloc[0]['content']"
   ]
  },
  {
   "cell_type": "markdown",
   "metadata": {},
   "source": [
    "## Term Frequence"
   ]
  },
  {
   "cell_type": "code",
   "execution_count": 10,
   "metadata": {},
   "outputs": [],
   "source": [
    "import jieba"
   ]
  },
  {
   "cell_type": "code",
   "execution_count": 11,
   "metadata": {},
   "outputs": [],
   "source": [
    "def cut(string): return list(jieba.cut(string))"
   ]
  },
  {
   "cell_type": "code",
   "execution_count": 12,
   "metadata": {},
   "outputs": [],
   "source": [
    "from collections import Counter"
   ]
  },
  {
   "cell_type": "code",
   "execution_count": 13,
   "metadata": {},
   "outputs": [
    {
     "name": "stderr",
     "output_type": "stream",
     "text": [
      "Building prefix dict from the default dictionary ...\n",
      "Loading model from cache /var/folders/_3/nm3s5d4x7h199bbtc4z__fth0000gn/T/jieba.cache\n",
      "Loading model cost 1.241 seconds.\n",
      "Prefix dict has been built succesfully.\n"
     ]
    }
   ],
   "source": [
    "xiaoMI_text = cut(content.iloc[0]['content']) "
   ]
  },
  {
   "cell_type": "code",
   "execution_count": 14,
   "metadata": {},
   "outputs": [
    {
     "data": {
      "text/plain": [
       "'此外，自本周（6月12日）起，除小米手机6等15款机型外，其余机型已暂停更新发布（含开发版/体验版内测，稳定版暂不受影响），以确保工程师可以集中全部精力进行系统优化工作。有人猜测这也是将精力主要用到MIUI 9的研发之中。\\r\\nMIUI 8去年5月发布，距今已有一年有余，也是时候更新换代了。\\r\\n当然，关于MIUI 9的确切信息，我们还是等待官方消息。\\r\\n'"
      ]
     },
     "execution_count": 14,
     "metadata": {},
     "output_type": "execute_result"
    }
   ],
   "source": [
    "content.iloc[0]['content']"
   ]
  },
  {
   "cell_type": "code",
   "execution_count": 15,
   "metadata": {},
   "outputs": [
    {
     "data": {
      "text/plain": [
       "['此外',\n",
       " '，',\n",
       " '自',\n",
       " '本周',\n",
       " '（',\n",
       " '6',\n",
       " '月',\n",
       " '12',\n",
       " '日',\n",
       " '）',\n",
       " '起',\n",
       " '，',\n",
       " '除',\n",
       " '小米',\n",
       " '手机',\n",
       " '6',\n",
       " '等',\n",
       " '15',\n",
       " '款',\n",
       " '机型',\n",
       " '外',\n",
       " '，',\n",
       " '其余',\n",
       " '机型',\n",
       " '已',\n",
       " '暂停',\n",
       " '更新',\n",
       " '发布',\n",
       " '（',\n",
       " '含',\n",
       " '开发',\n",
       " '版',\n",
       " '/',\n",
       " '体验版',\n",
       " '内测',\n",
       " '，',\n",
       " '稳定版',\n",
       " '暂不受',\n",
       " '影响',\n",
       " '）',\n",
       " '，',\n",
       " '以',\n",
       " '确保',\n",
       " '工程师',\n",
       " '可以',\n",
       " '集中',\n",
       " '全部',\n",
       " '精力',\n",
       " '进行',\n",
       " '系统优化',\n",
       " '工作',\n",
       " '。',\n",
       " '有人',\n",
       " '猜测',\n",
       " '这',\n",
       " '也',\n",
       " '是',\n",
       " '将',\n",
       " '精力',\n",
       " '主要',\n",
       " '用到',\n",
       " 'MIUI',\n",
       " ' ',\n",
       " '9',\n",
       " '的',\n",
       " '研发',\n",
       " '之中',\n",
       " '。',\n",
       " '\\r\\n',\n",
       " 'MIUI',\n",
       " ' ',\n",
       " '8',\n",
       " '去年',\n",
       " '5',\n",
       " '月',\n",
       " '发布',\n",
       " '，',\n",
       " '距今已有',\n",
       " '一年',\n",
       " '有余',\n",
       " '，',\n",
       " '也',\n",
       " '是',\n",
       " '时候',\n",
       " '更新换代',\n",
       " '了',\n",
       " '。',\n",
       " '\\r\\n',\n",
       " '当然',\n",
       " '，',\n",
       " '关于',\n",
       " 'MIUI',\n",
       " ' ',\n",
       " '9',\n",
       " '的',\n",
       " '确切',\n",
       " '信息',\n",
       " '，',\n",
       " '我们',\n",
       " '还是',\n",
       " '等待',\n",
       " '官方消息',\n",
       " '。',\n",
       " '\\r\\n']"
      ]
     },
     "execution_count": 15,
     "metadata": {},
     "output_type": "execute_result"
    }
   ],
   "source": [
    "xiaoMI_text"
   ]
  },
  {
   "cell_type": "code",
   "execution_count": 16,
   "metadata": {},
   "outputs": [
    {
     "data": {
      "text/plain": [
       "[('，', 9),\n",
       " ('。', 4),\n",
       " ('MIUI', 3),\n",
       " (' ', 3),\n",
       " ('\\r\\n', 3),\n",
       " ('（', 2),\n",
       " ('6', 2),\n",
       " ('月', 2),\n",
       " ('）', 2),\n",
       " ('机型', 2)]"
      ]
     },
     "execution_count": 16,
     "metadata": {},
     "output_type": "execute_result"
    }
   ],
   "source": [
    "Counter(xiaoMI_text).most_common()[:10]"
   ]
  },
  {
   "cell_type": "markdown",
   "metadata": {},
   "source": [
    "##Document Frequency"
   ]
  },
  {
   "cell_type": "code",
   "execution_count": 17,
   "metadata": {},
   "outputs": [],
   "source": [
    "content = content.fillna('')"
   ]
  },
  {
   "cell_type": "code",
   "execution_count": 18,
   "metadata": {},
   "outputs": [],
   "source": [
    "all_news_content = content['content']"
   ]
  },
  {
   "cell_type": "code",
   "execution_count": 19,
   "metadata": {},
   "outputs": [],
   "source": [
    "from tqdm import tqdm_notebook"
   ]
  },
  {
   "cell_type": "code",
   "execution_count": 20,
   "metadata": {},
   "outputs": [
    {
     "data": {
      "text/plain": [
       "89611"
      ]
     },
     "execution_count": 20,
     "metadata": {},
     "output_type": "execute_result"
    }
   ],
   "source": [
    "len (all_news_content )"
   ]
  },
  {
   "cell_type": "code",
   "execution_count": 21,
   "metadata": {},
   "outputs": [],
   "source": [
    "all_occurences = []"
   ]
  },
  {
   "cell_type": "code",
   "execution_count": 22,
   "metadata": {},
   "outputs": [
    {
     "data": {
      "application/vnd.jupyter.widget-view+json": {
       "model_id": "3a27681967bc406c8cb3accc84abfada",
       "version_major": 2,
       "version_minor": 0
      },
      "text/plain": [
       "HBox(children=(IntProgress(value=0, max=89611), HTML(value='')))"
      ]
     },
     "metadata": {},
     "output_type": "display_data"
    },
    {
     "name": "stdout",
     "output_type": "stream",
     "text": [
      "\n"
     ]
    }
   ],
   "source": [
    "for c in tqdm_notebook(all_news_content, total=len(all_news_content)):   \n",
    "    all_occurences.append(set(cut(c)))"
   ]
  },
  {
   "cell_type": "code",
   "execution_count": 26,
   "metadata": {},
   "outputs": [],
   "source": [
    "import math "
   ]
  },
  {
   "cell_type": "code",
   "execution_count": 27,
   "metadata": {},
   "outputs": [],
   "source": [
    "def inverse_document_frequency(word):\n",
    "    eps = 1e-6\n",
    "    return math.log10(len(all_occurences) / (sum(1 for w in all_occurences if word in w) + eps))"
   ]
  },
  {
   "cell_type": "code",
   "execution_count": 29,
   "metadata": {},
   "outputs": [
    {
     "data": {
      "text/plain": [
       "1.0545143921579558"
      ]
     },
     "execution_count": 29,
     "metadata": {},
     "output_type": "execute_result"
    }
   ],
   "source": [
    "inverse_document_frequency('我们')"
   ]
  },
  {
   "cell_type": "code",
   "execution_count": 30,
   "metadata": {},
   "outputs": [],
   "source": [
    "def tf(word, cut_words_counter):\n",
    "    return cut_words_counter[word] / sum(cut_words_counter.values())"
   ]
  },
  {
   "cell_type": "code",
   "execution_count": 32,
   "metadata": {},
   "outputs": [
    {
     "data": {
      "text/plain": [
       "0.009615384615384616"
      ]
     },
     "execution_count": 32,
     "metadata": {},
     "output_type": "execute_result"
    }
   ],
   "source": [
    "tf('小米', Counter(xiaoMI_text))"
   ]
  },
  {
   "cell_type": "code",
   "execution_count": 33,
   "metadata": {},
   "outputs": [],
   "source": [
    "def tfidf(word, cut_words_counter):\n",
    "    w_tf = tf(word, cut_words_counter)\n",
    "    \n",
    "    idf = inverse_document_frequency(word)\n",
    "    \n",
    "    return w_tf * idf"
   ]
  },
  {
   "cell_type": "code",
   "execution_count": 34,
   "metadata": {},
   "outputs": [
    {
     "data": {
      "text/plain": [
       "0.02847245426604233"
      ]
     },
     "execution_count": 34,
     "metadata": {},
     "output_type": "execute_result"
    }
   ],
   "source": [
    "tfidf('小米', Counter(xiaoMI_text))"
   ]
  },
  {
   "cell_type": "code",
   "execution_count": 35,
   "metadata": {},
   "outputs": [],
   "source": [
    "def get_words_importance(cut_words):\n",
    "    importance = {\n",
    "        w: tfidf(w, Counter(cut_words)) for w in set(cut_words)\n",
    "    }\n",
    "    \n",
    "    return sorted(importance.items(), key=lambda x: x[1], reverse=True)"
   ]
  },
  {
   "cell_type": "code",
   "execution_count": 37,
   "metadata": {},
   "outputs": [],
   "source": [
    "test_news = \"\"\"12月8日2时23分，西昌卫星发射中心，嫦娥四号探测器由长征三号乙运载火箭成功发射。新华社发\n",
    "\n",
    "昨日凌晨2时23分，我国嫦娥四号月球探测器在西昌卫星发射中心成功发射，我国第二个月球着陆器和月球车踏上登月征程。发射任务由长征三号乙运载火箭实施。\n",
    "\n",
    "火箭将嫦娥四号送入地月转移轨道后，探测器将经过数十天在轨飞行、轨道修正、近月制动、环月飞行等，预计明年1月初着陆月面，择机释放巡视器。\n",
    "\n",
    "嫦娥四号的目的地是月球背面南极-艾特肯盆地，新月球车将与“玉兔”号在月球两面遥遥相对。这将是人类探测器首次在月球背面着陆，在人类从未直接看见的“月之暗面”实施月球探测和天文观测。\n",
    "\n",
    "据国防科工局、国家航天局介绍，嫦娥四号任务的工程目标包括两方面：研制发射月球中继通信卫星，实现国际首次地月拉格朗日L2点的测控及中继通信；研制发射月球着陆器和巡视器，实现国际首次月球背面软着陆和巡视探测。\n",
    "\n",
    "嫦娥四号的科学任务，一是开展月球背面低频射电天文观测与研究，二是进行月球背面巡视区形貌、矿物组分及月表浅层结构探测与研究，三是试验性开展月球背面中子辐射剂量、中性原子等月球环境探测研究。\n",
    "\n",
    "航天专家庞之浩介绍，在月球背面着陆探测，对研究月球和地球的早期历史也具有重要价值。\n",
    "\n",
    "嫦娥四号还承担了国际合作项目。嫦娥四号任务中，我国与荷兰、德国、瑞典、沙特开展了4项科学载荷方面的国际合作，搭载了3项由哈尔滨工业大学、中山大学、重庆大学等国内高校研制的科学技术试验项目。\n",
    "\n",
    "焦点1\n",
    "\n",
    "嫦娥四号如何着陆？\n",
    "\n",
    "5年前，嫦娥三号着陆在月球正面的虹湾。那里布满月海玄武岩，地势较为开阔、平坦，位于大型撞击坑、月海、高地(山脉)交汇地区，有利于科学勘察目标的选择。\n",
    "\n",
    "而嫦娥四号的主着陆区为月球背面南极-艾特肯盆地，着陆区面积比虹湾地区小了许多。而且月球背面山峰林立，遍布撞击坑，很难找出更大、更平坦的地方，嫦娥三号着陆区地形起伏仅800米，而嫦娥四号着陆区起伏达到了6000米。因此，嫦娥四号着陆器，需要具有比嫦娥三号更准确的着陆精度。\n",
    "\n",
    "由于落月过程地球方向不直接可见，所有信息传输都需要在中继星“鹊桥”的中转下完成。整个落月过程由GNC（制导、导航与控制）系统自主操控，加之回传画面的延迟，对地面人员来说，这个过程近乎是“盲降”。\n",
    "\n",
    "焦点2\n",
    "\n",
    "为何要去月球背面？\n",
    "\n",
    "航天科技集团五院专家介绍，月球背面的探测，可以推动月基科学研究的不断深入。\n",
    "\n",
    "月球背面没有来自地球的无线电波的干扰，是进行射电天文观测的最佳场所，如果能利用这一自然地形架设无线电望远镜，就好比把“天文台”搬到了月球背面。嫦娥四号着陆器在月球背面软着陆后，将开展月基低频射电天文观测研究，预期可以获得一批原创性的科学成果。\n",
    "\n",
    "月球背面探测，也有助于推动月球资源的研究和开发利用。月球蕴藏着丰富的矿产和能源资源，开发和利用月球资源是人类探测月球的原动力之一。近年来，美国等国家相继制定了包括月球背面资源调查研究计划。通过嫦娥四号对着陆区地形地貌、矿物组分、巡视区浅层结构、地幔物质等进行科学探测与研究，将为月球资源的开发利用提供极有价值的第一手资料。\n",
    "\n",
    "由于月球背面探测的难度，嫦娥四号任务也将助推我国航天和相关学科技术的突破。\n",
    "\n",
    "据嫦娥四号研制人员介绍，要完成前无古人的月球背面之旅，嫦娥四号面临几大技术难点：地月拉格朗日L2平动点轨道精确设计与控制，地月拉格朗日L2点远距离数据中继，复杂地形环境下的安全着陆等。\n",
    "\n",
    "为了突破这些技术难点，我国航天界将实现三个国际首次，即首次月球背面软着陆和巡视探测、首次月球拉格朗日L2点中继与探测、首次月基低频射电天文观测，以及国内首次实测月夜期间浅层月壤温度。这一重大科学创新工程的实施，将推动航天技术和其他科学领域相关技术的持续发展。\n",
    "\n",
    "焦点3\n",
    "\n",
    "新月球车与“玉兔”有何不同？\n",
    "\n",
    "今年8月15日，嫦娥四号月球车外观在北京首次亮相，与“玉兔”恰似孪生姐妹。嫦娥四号月球车总重量约140公斤，是全球迄今重量最小的月球车。\n",
    "\n",
    "探月工程副总指挥、国家国防科工局探月与航天工程中心主任刘继忠介绍，嫦娥四号月球车基本继承了“玉兔”的状态，但针对月球背面复杂的地形条件、中继通信新的需求和科学目标实际需要，做了适应性更改和有效载荷配置调整。\n",
    "\n",
    "工作在月球表面，月球车将面临多种极端条件的考验。\n",
    "\n",
    "2013年12月15日，嫦娥三号着陆器与巡视器分离，“玉兔”抵达月球表面。据中国工程院院士、中国探月工程总设计师吴伟仁介绍，月球环境曾对“玉兔”造成影响，例如月夜极低气温导致“玉兔”裸露在外的电缆发生故障。\n",
    "\n",
    "基于“玉兔号”的任务经验，嫦娥四号针对其遇到的问题进行了针对性改进。吴伟仁说，嫦娥四号的月球车仅在电缆钩挂、摩擦方面就做了上千次试验，同时也尽量减少电缆裸露在外的面积，减少电缆的故障风险。\n",
    "\n",
    "吴伟仁透露，嫦娥三号着陆器和月球车设计寿命分别为1年和3个月，但最终月球车工作了2年9个月，着陆器目前仍在运行，工作5年状态依然很好。嫦娥四号月球车设计寿命也是3个月，但预计工作时间将比“玉兔号”更长。\n",
    "\n",
    "焦点4\n",
    "\n",
    "“鹊桥”“嫦四”有何关联？\n",
    "\n",
    "今年5月21日，“鹊桥”中继卫星发射升空，也被称为嫦娥四号任务的先声。\n",
    "\n",
    "嫦娥四号探测器包括着陆器和巡视器(即月球车，此前探月工程办公室曾面向全社会为月球车征名，目前名称尚未发布），但嫦娥四号系统里还有一个“信使”——“鹊桥”中继卫星。\n",
    "\n",
    "由于嫦娥四号降落在月球背面，始终与地球“背对背”，无法直接与地球通信。为解决通信问题，科学家找到一个能同时“看到”地球和月球的位置——地月拉格朗日L2点（位于地月球心连线上靠近月球的一侧，距月球约6.5万公里），并在这里部署一颗通信卫星。\n",
    "\n",
    "“鹊桥”已经于今年5月21日发射升空，目前运行在地月拉格朗日L2点Halo轨道上，是人类历史上第一颗地球轨道外专用中继通信卫星。任务中，地球地面和嫦娥四号都先发射信号给“鹊桥号”，再由其转发给另一方。\n",
    "\n",
    "■ 揭秘\n",
    "\n",
    "“月之暗面”：更白更厚更崎岖\n",
    "\n",
    "过去60年，人类共发射了132个左右的月球探测器，包括65个月球着陆器，但仅有不载人的环绕月球轨道器和载人的阿波罗号飞船“看”到过月球背面。主要是由于从地球向月球背面发射通讯信号，会受到月球整体阻挡，地面通信和测控的难题，阻挡了月球背面着陆计划。\n",
    "\n",
    "月球总是一面朝向地球\n",
    "\n",
    "由于月球自转周期和公转周期相等，加上被地球潮汐锁定，地球强大的引力让月球总是一面朝向地球。\n",
    "\n",
    "美国航空航天学会会员、“小火箭”联合会创始人邢强博士告诉记者，约41%月面无法被地球直接观测到。因为当飞行器飞到月球背面，就难以和地球建立通信，这也是长期以来，人类探测器从未在月球背面着陆的主要原因。\n",
    "\n",
    "可以说，月球背面对于人类来说，是“秘境中的秘境”。\n",
    "\n",
    "随着由中国航天科技集团五院研制的嫦娥四号从西昌出发，人类首次月球背面软着陆巡视探测的大幕正式拉开。嫦娥四号将第一次触及月球背面，这也是中国探测器目前到达的最远的土地。\n",
    "\n",
    "并非完全看不到月背\n",
    "\n",
    "据五院科研人员介绍，月球存在着“天秤动”，像钟摆一样来回摆动，因此，至少有10%至20%的月球背面的边缘地带可以从地球上看到，比如一个跨越1000千米的撞击盆地——东海。\n",
    "\n",
    "1959年10月7日，苏联“月球三号”探测器传回月球背面的第一张照片后，月球背面的“真容”就第一次被揭开了。依照这些珍贵的照片资料，苏联在1960年11月6出版了第一份月球背面地图，一年之后，又制作了第一个月球仪，更加清晰地呈现出月球背面的初步特征。\n",
    "\n",
    "1965年7月20日，苏联“探测器三号”传送回了25张画质更好的月球背面照片，可以看到月球背面有一条长数百千米的链状陨石坑。1967年，苏联根据这批照片出版了包含4000个新发现的月球背面地形目录的地图，同年发布了第一份比例为1:5000000完整的月面图和修订后完整的比例为1:10000000月球仪，月球95%的表面都在上面呈现了出来。\n",
    "\n",
    "人类首次与月背面对面\n",
    "\n",
    "人类首次与月背面对面是在1968年，美国“阿波罗八号”在进行载人登月任务试验的时候，宇航员威廉·安德斯首次看到月球背面。他描述说：“月球背面看起来像我在孩提时玩过一段时间的沙堆，它们全都被翻起来，没有边界，到处是一些碰撞痕和坑洞”。\n",
    "\n",
    "从那时开始直到“阿波罗十七号”，宇航员都曾看到过月球的背面。\n",
    "\n",
    "2010年12月21日，美国国家航空航天局（NASA）的“月球勘测轨道器”拍摄了一组高清月球背面照片，解析度是以往所拍月球背面照片的106倍，所呈现的细节精细程度也创下了历史纪录。根据这些最新照片数据，美国宇航局绘制了月球背面数字海拔地形图，直观地揭示了月球背面的地形。\n",
    "\n",
    "如今，人类观察月背的视角将从太空中变为身临其境。嫦娥四号将首次实现月球背面软着陆和巡视勘察，迎接它的将是怎样的环境呢？\n",
    "\n",
    "布满巨坑的崎岖陆地\n",
    "\n",
    "据航天科技集团五院专家介绍，乍一看上去，月球背面“面孔”并不漂亮，像是一张“麻子脸”，陨石坑的数量比月球正面要多很多。\n",
    "\n",
    "月背的“皱纹”也很多，布满沟壑、峡谷和悬崖，而月球正面则更平坦。月背还有几处巨大的暗斑，暗斑中的物质与月面普通物质相比有很大不同，这种现象似乎能够说明，月球背面由于毫无遮拦地暴露在太空里，因而遭遇了大量天体直接撞击。经年累月，月球就像一个盾牌，为地球挡住陨石，守护着地球的安全。\n",
    "\n",
    "月球背面月壳整体比正面更厚，究竟是什么原因导致月壳厚度不一样，众说纷纭。照片显示，月球背面巨大的陨石坑都呈现出白色，好像从来没有暗色的熔岩从上面流过。科学家们研究认为，由于月球背面的月壳很厚，熔岩无法溢出，而正面月壳很薄，熔岩很容易破缝流淌在表面，所以颜色比正面要白得多。\n",
    "\n",
    "此外，月球正面月海很多，而月球背面却只有3个，分别叫东海、莫斯科海和智海。月球正面有许多巨大绵延起伏的山峦，而背面却不像正面那么多。\n",
    "\n",
    "关键一步已经迈出\n",
    "\n",
    "我们只能看到月球的一边，但这并不是说另外一面永远是黑暗的。事实上，当我们看到整个月球正面的时候，即满月时，它的另一面是黑暗的；而月初月末时，月球背面则是阳光普照。\n",
    "\n",
    "由于目前还没有宇航员或月球车登上月球的背面，因此，人们对月球背面详细情况除了借助照片判断，其他的知之甚少。而嫦娥四号探测器，为人类逐步揭开月球背面的奥秘迈出了关键的一步。\"\"\""
   ]
  },
  {
   "cell_type": "code",
   "execution_count": 38,
   "metadata": {},
   "outputs": [],
   "source": [
    "cut_test_news = cut(test_news)"
   ]
  },
  {
   "cell_type": "code",
   "execution_count": 39,
   "metadata": {},
   "outputs": [
    {
     "data": {
      "text/plain": [
       "2527"
      ]
     },
     "execution_count": 39,
     "metadata": {},
     "output_type": "execute_result"
    }
   ],
   "source": [
    "len (cut_test_news)"
   ]
  },
  {
   "cell_type": "code",
   "execution_count": 40,
   "metadata": {},
   "outputs": [],
   "source": [
    "lunar_important = get_words_importance(cut_test_news)"
   ]
  },
  {
   "cell_type": "code",
   "execution_count": 43,
   "metadata": {},
   "outputs": [],
   "source": [
    "xiaomi_important = get_words_importance(xiaoMI_text)"
   ]
  },
  {
   "cell_type": "code",
   "execution_count": 44,
   "metadata": {},
   "outputs": [],
   "source": [
    "import wordcloud"
   ]
  },
  {
   "cell_type": "code",
   "execution_count": 63,
   "metadata": {},
   "outputs": [],
   "source": [
    "word_cloud = wordcloud.WordCloud(font_path='/Users/beyonehan/Downloads/SimHei.ttf')"
   ]
  },
  {
   "cell_type": "code",
   "execution_count": 64,
   "metadata": {},
   "outputs": [],
   "source": [
    "%matplotlib inline"
   ]
  },
  {
   "cell_type": "code",
   "execution_count": 65,
   "metadata": {},
   "outputs": [],
   "source": [
    "import matplotlib.pyplot as plt"
   ]
  },
  {
   "cell_type": "code",
   "execution_count": 66,
   "metadata": {},
   "outputs": [],
   "source": [
    "import numpy as np"
   ]
  },
  {
   "cell_type": "code",
   "execution_count": 67,
   "metadata": {},
   "outputs": [],
   "source": [
    "from PIL import Image"
   ]
  },
  {
   "cell_type": "code",
   "execution_count": 68,
   "metadata": {},
   "outputs": [],
   "source": [
    "moon_mask = np.array(Image.open('/Users/beyonehan/Downloads/background.png'))"
   ]
  },
  {
   "cell_type": "code",
   "execution_count": null,
   "metadata": {},
   "outputs": [],
   "source": []
  },
  {
   "cell_type": "code",
   "execution_count": 74,
   "metadata": {},
   "outputs": [],
   "source": [
    "word_cloud_with_mask = wordcloud.WordCloud(font_path='/Users/beyonehan/Downloads/SimHei.ttf', mask=moon_mask)"
   ]
  },
  {
   "cell_type": "code",
   "execution_count": 75,
   "metadata": {},
   "outputs": [
    {
     "name": "stdout",
     "output_type": "stream",
     "text": [
      "<wordcloud.wordcloud.WordCloud object at 0x157ee18d0>\n"
     ]
    }
   ],
   "source": [
    "print (word_cloud_with_mask)"
   ]
  },
  {
   "cell_type": "code",
   "execution_count": 81,
   "metadata": {},
   "outputs": [],
   "source": [
    "def plot_word_cloud_by_importance(importance):\n",
    "    plt.imshow(word_cloud_with_mask.generate_from_frequencies({w: fre for w, fre in importance}))"
   ]
  },
  {
   "cell_type": "code",
   "execution_count": 82,
   "metadata": {},
   "outputs": [
    {
     "data": {
      "text/plain": [
       "<wordcloud.wordcloud.WordCloud at 0x157ee18d0>"
      ]
     },
     "execution_count": 82,
     "metadata": {},
     "output_type": "execute_result"
    }
   ],
   "source": [
    "word_cloud_with_mask.generate_from_frequencies({w: fre for w, fre in lunar_important}).to_file('test.png')"
   ]
  },
  {
   "cell_type": "code",
   "execution_count": 83,
   "metadata": {},
   "outputs": [],
   "source": [
    "!open test.png"
   ]
  },
  {
   "cell_type": "code",
   "execution_count": 84,
   "metadata": {},
   "outputs": [
    {
     "data": {
      "image/png": "[encoded data removed]",
      "text/plain": [
       "<Figure size 432x288 with 1 Axes>"
      ]
     },
     "metadata": {
      "needs_background": "light"
     },
     "output_type": "display_data"
    }
   ],
   "source": [
    "plot_word_cloud_by_importance(lunar_important)"
   ]
  },
  {
   "cell_type": "code",
   "execution_count": 85,
   "metadata": {},
   "outputs": [
    {
     "data": {
      "image/png": "[encoded data removed]",
      "text/plain": [
       "<Figure size 432x288 with 1 Axes>"
      ]
     },
     "metadata": {
      "needs_background": "light"
     },
     "output_type": "display_data"
    }
   ],
   "source": [
    "plot_word_cloud_by_importance(xiaomi_important)"
   ]
  },
  {
   "cell_type": "markdown",
   "metadata": {},
   "source": [
    "## Get Relatied key word"
   ]
  },
  {
   "cell_type": "code",
   "execution_count": 86,
   "metadata": {},
   "outputs": [],
   "source": [
    "content = content.fillna('')"
   ]
  },
  {
   "cell_type": "code",
   "execution_count": 87,
   "metadata": {},
   "outputs": [],
   "source": [
    "all_content = ' '.join(content['content'].tolist())"
   ]
  },
  {
   "cell_type": "code",
   "execution_count": 88,
   "metadata": {},
   "outputs": [],
   "source": [
    "import re"
   ]
  },
  {
   "cell_type": "code",
   "execution_count": 89,
   "metadata": {},
   "outputs": [],
   "source": [
    "def token(string):\n",
    "    return re.findall(r'[\\w\\d]+', string)"
   ]
  },
  {
   "cell_type": "code",
   "execution_count": 90,
   "metadata": {},
   "outputs": [],
   "source": [
    "all_content = ''.join(token(all_content))"
   ]
  },
  {
   "cell_type": "code",
   "execution_count": 91,
   "metadata": {},
   "outputs": [
    {
     "data": {
      "text/plain": [
       "33328544"
      ]
     },
     "execution_count": 91,
     "metadata": {},
     "output_type": "execute_result"
    }
   ],
   "source": [
    "len(all_content)"
   ]
  },
  {
   "cell_type": "code",
   "execution_count": 92,
   "metadata": {},
   "outputs": [],
   "source": [
    "all_cut_words = cut(all_content)"
   ]
  },
  {
   "cell_type": "code",
   "execution_count": 93,
   "metadata": {},
   "outputs": [],
   "source": [
    "from gensim.models import Word2Vec"
   ]
  },
  {
   "cell_type": "code",
   "execution_count": 94,
   "metadata": {},
   "outputs": [],
   "source": [
    "mini_all_cut_words = all_cut_words[:10000]"
   ]
  },
  {
   "cell_type": "code",
   "execution_count": 95,
   "metadata": {},
   "outputs": [],
   "source": [
    "from gensim.models.word2vec import LineSentence"
   ]
  },
  {
   "cell_type": "code",
   "execution_count": 96,
   "metadata": {},
   "outputs": [],
   "source": [
    "with open('all_cut_words.txt', 'w', encoding='utf-8') as f:\n",
    "    f.write(' '.join(all_cut_words))"
   ]
  },
  {
   "cell_type": "code",
   "execution_count": 97,
   "metadata": {},
   "outputs": [],
   "source": [
    "news_word2vec = Word2Vec(LineSentence('all_cut_words.txt'), size=35, workers=8)"
   ]
  },
  {
   "cell_type": "code",
   "execution_count": 98,
   "metadata": {},
   "outputs": [
    {
     "name": "stderr",
     "output_type": "stream",
     "text": [
      "/Users/beyonehan/anaconda2/envs/py3/lib/python3.6/site-packages/ipykernel_launcher.py:1: DeprecationWarning: Call to deprecated `most_similar` (Method will be removed in 4.0.0, use self.wv.most_similar() instead).\n",
      "  \"\"\"Entry point for launching an IPython kernel.\n"
     ]
    },
    {
     "data": {
      "text/plain": [
       "[('意大利', 0.8838087320327759),\n",
       " ('捷克', 0.8590285778045654),\n",
       " ('奥地利', 0.8314086198806763),\n",
       " ('克罗地亚', 0.8295537233352661),\n",
       " ('西班牙', 0.8276490569114685),\n",
       " ('比利时', 0.8200148344039917),\n",
       " ('科特迪瓦', 0.8187804222106934),\n",
       " ('拉脱维亚', 0.8179394006729126),\n",
       " ('瑞士', 0.8166907429695129),\n",
       " ('乌拉圭', 0.8144059181213379),\n",
       " ('秘鲁', 0.7987877726554871),\n",
       " ('斯洛文尼亚', 0.7976602911949158),\n",
       " ('巴拉圭', 0.7902836799621582),\n",
       " ('苏格兰', 0.78847336769104),\n",
       " ('保加利亚', 0.7876983284950256),\n",
       " ('丹麦', 0.787470817565918),\n",
       " ('匈牙利', 0.7868573665618896),\n",
       " ('罗马尼亚', 0.7822192907333374),\n",
       " ('基辅', 0.7813146710395813),\n",
       " ('塞内加尔', 0.7807793617248535)]"
      ]
     },
     "execution_count": 98,
     "metadata": {},
     "output_type": "execute_result"
    }
   ],
   "source": [
    "news_word2vec.most_similar('葡萄牙', topn=20)"
   ]
  },
  {
   "cell_type": "markdown",
   "metadata": {},
   "source": [
    "## 1. More Data, Better Result\n",
    "    We need merge the general dataset like wikipedia with specific domain dataset like new data"
   ]
  },
  {
   "cell_type": "markdown",
   "metadata": {},
   "source": [
    "## 2. Fine-tune"
   ]
  },
  {
   "cell_type": "code",
   "execution_count": 99,
   "metadata": {},
   "outputs": [],
   "source": [
    "from collections import defaultdict"
   ]
  },
  {
   "cell_type": "code",
   "execution_count": 100,
   "metadata": {},
   "outputs": [],
   "source": [
    "def get_related_words(initial_words, model):\n",
    "    max_size = 500\n",
    "    seen = defaultdict(int)\n",
    "    unseen = [initial_words]\n",
    "    \n",
    "    while unseen and len(seen) < max_size:\n",
    "        if len(seen) % 100 == 0:\n",
    "            print('seen length: {}'.format(len(seen)))\n",
    "        node = unseen.pop(0)\n",
    "\n",
    "        new_expanding = [w for w, s in model.most_similar(node, topn=20)]\n",
    "        \n",
    "        unseen += new_expanding\n",
    "        \n",
    "        seen[node] += 1  \n",
    "        # if we need more sophsiticated, we need change the value as the function(layer, similarity)\n",
    "        \n",
    "    return seen"
   ]
  },
  {
   "cell_type": "code",
   "execution_count": 101,
   "metadata": {},
   "outputs": [
    {
     "name": "stdout",
     "output_type": "stream",
     "text": [
      "seen length: 0\n"
     ]
    },
    {
     "name": "stderr",
     "output_type": "stream",
     "text": [
      "/Users/beyonehan/anaconda2/envs/py3/lib/python3.6/site-packages/ipykernel_launcher.py:11: DeprecationWarning: Call to deprecated `most_similar` (Method will be removed in 4.0.0, use self.wv.most_similar() instead).\n",
      "  # This is added back by InteractiveShellApp.init_path()\n"
     ]
    },
    {
     "name": "stdout",
     "output_type": "stream",
     "text": [
      "seen length: 100\n",
      "seen length: 100\n",
      "seen length: 100\n",
      "seen length: 200\n",
      "seen length: 200\n",
      "seen length: 200\n",
      "seen length: 200\n",
      "seen length: 300\n",
      "seen length: 400\n",
      "seen length: 400\n",
      "seen length: 400\n",
      "seen length: 400\n",
      "seen length: 400\n"
     ]
    }
   ],
   "source": [
    "related_words = get_related_words('俄罗斯', news_word2vec)"
   ]
  },
  {
   "cell_type": "markdown",
   "metadata": {},
   "source": [
    "## Breaking Until 10:43"
   ]
  },
  {
   "cell_type": "code",
   "execution_count": 102,
   "metadata": {},
   "outputs": [
    {
     "data": {
      "text/plain": [
       "[('土耳其', 167),\n",
       " ('伊朗', 128),\n",
       " ('比利时', 128),\n",
       " ('俄罗斯', 116),\n",
       " ('德国', 110),\n",
       " ('卡塔尔', 106),\n",
       " ('津巴布韦', 105),\n",
       " ('波兰', 102),\n",
       " ('澳大利亚', 100),\n",
       " ('印度', 96),\n",
       " ('南非', 96),\n",
       " ('欧洲', 95),\n",
       " ('墨西哥', 95),\n",
       " ('美国', 94),\n",
       " ('以色列', 94),\n",
       " ('沙特', 90),\n",
       " ('该国', 89),\n",
       " ('日本', 86),\n",
       " ('埃及', 85),\n",
       " ('新加坡', 82),\n",
       " ('英国', 82),\n",
       " ('巴西', 80),\n",
       " ('瑞士', 76),\n",
       " ('尼日利亚', 75),\n",
       " ('法国', 74),\n",
       " ('意大利', 74),\n",
       " ('阿联酋', 72),\n",
       " ('菲律宾', 71),\n",
       " ('利比亚', 61),\n",
       " ('秘鲁', 61),\n",
       " ('乌克兰', 60),\n",
       " ('巴拿马', 58),\n",
       " ('北约', 55),\n",
       " ('沙特阿拉伯', 54),\n",
       " ('保加利亚', 53),\n",
       " ('匈牙利', 53),\n",
       " ('韩国', 52),\n",
       " ('希腊', 52),\n",
       " ('瑞典', 51),\n",
       " ('巴林', 48),\n",
       " ('阿富汗', 47),\n",
       " ('奥地利', 46),\n",
       " ('也门', 45),\n",
       " ('索马里', 43),\n",
       " ('伊拉克', 42),\n",
       " ('朝鲜', 39),\n",
       " ('孟加拉国', 38),\n",
       " ('捷克', 37),\n",
       " ('白俄罗斯', 36),\n",
       " ('阿根廷', 32)]"
      ]
     },
     "execution_count": 102,
     "metadata": {},
     "output_type": "execute_result"
    }
   ],
   "source": [
    "sorted(related_words.items(), key=lambda x: x[1], reverse=True)[:50]"
   ]
  },
  {
   "cell_type": "code",
   "execution_count": 103,
   "metadata": {},
   "outputs": [
    {
     "name": "stderr",
     "output_type": "stream",
     "text": [
      "/Users/beyonehan/anaconda2/envs/py3/lib/python3.6/site-packages/ipykernel_launcher.py:1: DeprecationWarning: Call to deprecated `most_similar` (Method will be removed in 4.0.0, use self.wv.most_similar() instead).\n",
      "  \"\"\"Entry point for launching an IPython kernel.\n"
     ]
    },
    {
     "data": {
      "text/plain": [
       "[('世界', 0.7800784111022949),\n",
       " ('全球', 0.7661397457122803),\n",
       " ('国内', 0.7300570011138916),\n",
       " ('亚洲', 0.7294595241546631),\n",
       " ('全世界', 0.7258318066596985),\n",
       " ('芬兰', 0.718909740447998),\n",
       " ('我国', 0.7173237800598145),\n",
       " ('香港', 0.7153745889663696),\n",
       " ('大陆', 0.7130711674690247),\n",
       " ('欧洲', 0.7075809240341187),\n",
       " ('非洲', 0.6961971521377563),\n",
       " ('海外', 0.6823487877845764),\n",
       " ('亚太地区', 0.6588271856307983),\n",
       " ('台湾', 0.6432550549507141),\n",
       " ('日本', 0.6423345804214478),\n",
       " ('全国', 0.6310453414916992),\n",
       " ('肯尼亚', 0.6297159790992737),\n",
       " ('欧美', 0.6244210600852966),\n",
       " ('西方', 0.6235998868942261),\n",
       " ('中欧', 0.6230958104133606),\n",
       " ('拉美', 0.6209419965744019),\n",
       " ('业界', 0.6159273386001587),\n",
       " ('美国', 0.6138702630996704),\n",
       " ('国内外', 0.6126465201377869),\n",
       " ('东盟', 0.6114286184310913),\n",
       " ('下一代', 0.6114053726196289),\n",
       " ('各国', 0.6074223518371582),\n",
       " ('马来西亚', 0.6069111824035645),\n",
       " ('行列', 0.6068388819694519),\n",
       " ('北欧', 0.6003210544586182)]"
      ]
     },
     "execution_count": 103,
     "metadata": {},
     "output_type": "execute_result"
    }
   ],
   "source": [
    "news_word2vec.most_similar('中国', topn=30)"
   ]
  },
  {
   "cell_type": "code",
   "execution_count": 104,
   "metadata": {},
   "outputs": [
    {
     "data": {
      "text/plain": [
       "defaultdict(int,\n",
       "            {'俄罗斯': 116,\n",
       "             '美国': 94,\n",
       "             '新加坡': 82,\n",
       "             '印度': 96,\n",
       "             '土耳其': 167,\n",
       "             '伊朗': 128,\n",
       "             '澳大利亚': 100,\n",
       "             '瑞士': 76,\n",
       "             '埃及': 85,\n",
       "             '欧洲': 95,\n",
       "             '乌克兰': 60,\n",
       "             '德国': 110,\n",
       "             '日本': 86,\n",
       "             '以色列': 94,\n",
       "             '英国': 82,\n",
       "             '南非': 96,\n",
       "             '阿联酋': 72,\n",
       "             '比利时': 128,\n",
       "             '波兰': 102,\n",
       "             '巴林': 48,\n",
       "             '卡塔尔': 106,\n",
       "             '法国': 74,\n",
       "             '韩国': 52,\n",
       "             '巴西': 80,\n",
       "             '该国': 89,\n",
       "             '沙特': 90,\n",
       "             '朝鲜': 39,\n",
       "             '特朗普': 16,\n",
       "             '欧盟': 21,\n",
       "             '美国政府': 15,\n",
       "             '墨西哥': 95,\n",
       "             '泰国': 20,\n",
       "             '马来西亚': 15,\n",
       "             '印尼': 27,\n",
       "             '保加利亚': 53,\n",
       "             '巴基斯坦': 14,\n",
       "             '津巴布韦': 105,\n",
       "             '孟加拉国': 38,\n",
       "             '吉尔吉斯斯坦': 28,\n",
       "             '缅甸': 27,\n",
       "             '新西兰': 25,\n",
       "             '丹麦': 31,\n",
       "             '阿根廷': 32,\n",
       "             '阿富汗': 47,\n",
       "             '菲律宾': 71,\n",
       "             '索马里': 43,\n",
       "             '利比亚': 61,\n",
       "             '巴拿马': 58,\n",
       "             '伊拉克': 42,\n",
       "             '北约': 55,\n",
       "             '尼日利亚': 75,\n",
       "             '菲': 27,\n",
       "             '也门': 45,\n",
       "             '中东地区': 32,\n",
       "             '希腊': 52,\n",
       "             '中东': 22,\n",
       "             '加拿大': 28,\n",
       "             '拉斯维加斯': 15,\n",
       "             '奥克兰': 8,\n",
       "             '洛杉矶': 27,\n",
       "             '意大利': 74,\n",
       "             '西班牙': 29,\n",
       "             '葡萄牙': 32,\n",
       "             '维也纳': 12,\n",
       "             '秘鲁': 61,\n",
       "             '基辅': 14,\n",
       "             '捷克': 37,\n",
       "             '美国纽约': 9,\n",
       "             '日内瓦': 4,\n",
       "             '奥地利': 46,\n",
       "             '英国伦敦': 6,\n",
       "             '匈牙利': 53,\n",
       "             '苏丹': 32,\n",
       "             '斯里兰卡': 20,\n",
       "             '古巴': 27,\n",
       "             '亚洲': 14,\n",
       "             '亚太地区': 18,\n",
       "             '全球': 11,\n",
       "             '芬兰': 9,\n",
       "             '拉美地区': 15,\n",
       "             '非洲': 12,\n",
       "             '国内': 10,\n",
       "             '塞浦路斯': 7,\n",
       "             '爱沙尼亚': 12,\n",
       "             '摩尔多瓦': 19,\n",
       "             '乌': 7,\n",
       "             '黎巴嫩': 26,\n",
       "             '巴': 17,\n",
       "             '罗马尼亚': 16,\n",
       "             '瑞典': 51,\n",
       "             '伦敦': 24,\n",
       "             '西方': 11,\n",
       "             '全美': 11,\n",
       "             '西撒哈拉': 9,\n",
       "             '约旦': 25,\n",
       "             '邻国': 15,\n",
       "             '巴勒斯坦': 8,\n",
       "             '沙特阿拉伯': 54,\n",
       "             '巴黎': 16,\n",
       "             '英国政府': 19,\n",
       "             '无党派': 6,\n",
       "             '白宫': 9,\n",
       "             '哥斯达黎加': 20,\n",
       "             '白俄罗斯': 36,\n",
       "             '挪威': 14,\n",
       "             '迪拜': 4,\n",
       "             '格鲁吉亚': 24,\n",
       "             '海湾': 3,\n",
       "             '科威特': 19,\n",
       "             '阿拉伯联合酋长国': 4,\n",
       "             '雅加达': 6,\n",
       "             '荷兰': 8,\n",
       "             '乌兹别克斯坦': 16,\n",
       "             '拉脱维亚': 23,\n",
       "             '阿塞拜疆': 6,\n",
       "             '麦纳麦': 3,\n",
       "             '苏尔坦': 2,\n",
       "             '斯洛文尼亚': 9,\n",
       "             '爱尔兰': 8,\n",
       "             '叙': 21,\n",
       "             '他国': 7,\n",
       "             '叙政府': 14,\n",
       "             '叙利亚': 23,\n",
       "             '马克': 8,\n",
       "             '文在寅': 6,\n",
       "             '反对党': 5,\n",
       "             '在野党': 5,\n",
       "             '阿美军': 25,\n",
       "             '该州': 14,\n",
       "             '冲绳': 22,\n",
       "             '直布罗陀': 8,\n",
       "             '缅甸政府': 11,\n",
       "             '美英': 5,\n",
       "             '朝鲜半岛': 3,\n",
       "             '美方': 11,\n",
       "             '朝方': 9,\n",
       "             '安理会': 7,\n",
       "             '俄方': 10,\n",
       "             '普京': 8,\n",
       "             '日方': 5,\n",
       "             '韩美': 7,\n",
       "             '非军事': 3,\n",
       "             '美国国会': 7,\n",
       "             '安倍': 3,\n",
       "             '日本政府': 4,\n",
       "             '奥巴马': 1,\n",
       "             '国会': 4,\n",
       "             '特梅尔': 3,\n",
       "             '科米': 2,\n",
       "             '脱欧': 3,\n",
       "             '韩国政府': 3,\n",
       "             '断交': 5,\n",
       "             '贸易协定': 1,\n",
       "             '世贸组织': 1,\n",
       "             '谈判': 1,\n",
       "             '本国': 2,\n",
       "             '欧元区': 1,\n",
       "             '中国政府': 1,\n",
       "             '韩方': 1,\n",
       "             '美韩': 6,\n",
       "             '美国财政部': 2,\n",
       "             '此举': 1,\n",
       "             '五角大楼': 1,\n",
       "             '开罗': 13,\n",
       "             '肯尼亚': 9,\n",
       "             '柬埔寨': 8,\n",
       "             '尼泊尔': 6,\n",
       "             '曼谷': 3,\n",
       "             '老挝': 8,\n",
       "             '塔吉克斯坦': 7,\n",
       "             '乌干达': 8,\n",
       "             '印度尼西亚': 5,\n",
       "             '埃塞俄比亚': 8,\n",
       "             '越南': 7,\n",
       "             '哈萨克斯坦': 7,\n",
       "             '坦桑尼亚': 1,\n",
       "             '文莱': 8,\n",
       "             '中亚国家': 4,\n",
       "             '卡萨布兰卡': 4,\n",
       "             '玻利维亚': 7,\n",
       "             '波罗的海': 4,\n",
       "             '厄瓜多尔': 5,\n",
       "             '突尼斯': 15,\n",
       "             '智利': 8,\n",
       "             '卢旺达': 3,\n",
       "             '吉大港': 2,\n",
       "             '科伦坡': 3,\n",
       "             '蒙古国': 4,\n",
       "             '亚的斯亚贝巴': 2,\n",
       "             '吉布提': 2,\n",
       "             '尼日尔': 9,\n",
       "             '群岛': 3,\n",
       "             '克罗地亚': 10,\n",
       "             '卡蒂': 1,\n",
       "             '布里斯班': 10,\n",
       "             '喀麦隆': 2,\n",
       "             '北岛': 1,\n",
       "             '哈': 3,\n",
       "             '仰光': 2,\n",
       "             '西亚': 3,\n",
       "             '华人社区': 5,\n",
       "             '维多利亚州': 2,\n",
       "             '拉丁美洲': 5,\n",
       "             '美洲': 2,\n",
       "             '南美': 2,\n",
       "             '东南亚': 4,\n",
       "             '斯洛伐克': 4,\n",
       "             '塞纳': 3,\n",
       "             '诺伊': 2,\n",
       "             '拉曼': 2,\n",
       "             '乌拉圭': 6,\n",
       "             '立陶宛': 5,\n",
       "             '中国香港': 5,\n",
       "             '喀布尔': 3,\n",
       "             '马拉维': 13,\n",
       "             '青年党': 5,\n",
       "             '塔利班': 14,\n",
       "             '棉兰老岛': 16,\n",
       "             '韩美军': 3,\n",
       "             '安全部队': 3,\n",
       "             '政府军': 10,\n",
       "             '叛乱': 5,\n",
       "             '冲突地区': 10,\n",
       "             '反对派': 8,\n",
       "             '警察部队': 6,\n",
       "             '阿巴斯': 8,\n",
       "             '外交关系': 8,\n",
       "             '黑山': 4,\n",
       "             '国家元首': 4,\n",
       "             '首相': 4,\n",
       "             '三国': 10,\n",
       "             '摩苏尔': 2,\n",
       "             '阿勒颇': 2,\n",
       "             '胡塞': 4,\n",
       "             '盟国': 7,\n",
       "             '朝核问题': 4,\n",
       "             '乍得': 12,\n",
       "             '马里': 1,\n",
       "             '军警': 1,\n",
       "             '交战': 1,\n",
       "             '中非共和国': 2,\n",
       "             '任务区': 1,\n",
       "             '叛军': 2,\n",
       "             '什叶派': 2,\n",
       "             '国民军': 2,\n",
       "             '武装人员': 2,\n",
       "             '马沙尔': 2,\n",
       "             '盟友': 6,\n",
       "             '势力': 5,\n",
       "             '海湾地区': 3,\n",
       "             '拉美国家': 3,\n",
       "             '领土': 3,\n",
       "             '军力': 4,\n",
       "             '局势': 2,\n",
       "             '外交': 3,\n",
       "             '产油': 3,\n",
       "             '动荡': 2,\n",
       "             '地缘': 2,\n",
       "             '拉美': 7,\n",
       "             '北非': 3,\n",
       "             '施压': 2,\n",
       "             '温哥华': 4,\n",
       "             '多伦多': 13,\n",
       "             '加利福尼亚州': 9,\n",
       "             '内华达州': 4,\n",
       "             '赛莱娜': 1,\n",
       "             '歌手': 1,\n",
       "             '埃帕林': 2,\n",
       "             '宾夕法尼亚州': 1,\n",
       "             '内布拉斯加州': 1,\n",
       "             '朱莉安': 1,\n",
       "             '圣胡安': 1,\n",
       "             '布里奇': 1,\n",
       "             '惠特尼': 1,\n",
       "             '奥马哈': 1,\n",
       "             '新泽西州': 1,\n",
       "             '第奥': 1,\n",
       "             '圣何塞': 5,\n",
       "             '菲尔德': 1,\n",
       "             '悉尼': 10,\n",
       "             '纽约市': 1,\n",
       "             '卡亚': 1,\n",
       "             '多明': 1,\n",
       "             '福冈': 1,\n",
       "             '格斯': 1,\n",
       "             '哈博罗内': 1,\n",
       "             '伊斯坦布尔': 1,\n",
       "             '外电报道': 1,\n",
       "             '芝加哥': 3,\n",
       "             '圣保罗州': 1,\n",
       "             '符拉迪沃斯托克': 1,\n",
       "             '肯特': 1,\n",
       "             '马瑙斯': 1,\n",
       "             '阿拉姆': 1,\n",
       "             '市至': 5,\n",
       "             '华盛顿': 6,\n",
       "             '蒂姆': 3,\n",
       "             '苏格兰': 9,\n",
       "             '柏林': 9,\n",
       "             '马德里': 3,\n",
       "             '斯': 2,\n",
       "             '科特迪瓦': 5,\n",
       "             '巴拉圭': 4,\n",
       "             '塞内加尔': 1,\n",
       "             '布宜诺斯艾利斯': 4,\n",
       "             '布鲁塞尔': 6,\n",
       "             '里约热内卢': 1,\n",
       "             '利马': 1,\n",
       "             '联合国总部': 1,\n",
       "             '莫斯科市': 3,\n",
       "             '莫斯科': 5,\n",
       "             '得梅因': 1,\n",
       "             '舞会': 1,\n",
       "             '明斯克': 2,\n",
       "             '努': 2,\n",
       "             '哥伦比亚': 5,\n",
       "             '亚历山大': 2,\n",
       "             '里加': 1,\n",
       "             '布拉格': 1,\n",
       "             '维尔纽斯': 1,\n",
       "             '里斯本': 1,\n",
       "             '吉隆坡': 1,\n",
       "             '索': 1,\n",
       "             '拿骚': 1,\n",
       "             '布加勒斯特': 1,\n",
       "             '比什凯克': 4,\n",
       "             '路易斯维尔': 2,\n",
       "             '丘吉尔': 2,\n",
       "             '巴哈马': 2,\n",
       "             '德累斯顿': 1,\n",
       "             '法国巴黎': 1,\n",
       "             '苏黎世': 1,\n",
       "             '多哈': 1,\n",
       "             '瓦莱塔': 1,\n",
       "             '英国议会': 1,\n",
       "             '阿斯塔纳': 1,\n",
       "             '委内瑞拉': 2,\n",
       "             '马耳他': 3,\n",
       "             '德黑兰': 3,\n",
       "             '希纳': 1,\n",
       "             '奥赛': 1,\n",
       "             '斯特': 1,\n",
       "             '茨': 2,\n",
       "             '危地马拉城': 1,\n",
       "             '海滩': 1,\n",
       "             '阿比让': 2,\n",
       "             '白金汉宫': 1,\n",
       "             '圣': 1,\n",
       "             '新德里': 1,\n",
       "             '阿姆斯特丹': 1,\n",
       "             '布达佩斯': 2,\n",
       "             '的黎波里': 1,\n",
       "             '千岛群岛': 1,\n",
       "             '塔卜卡镇': 1,\n",
       "             '阿尔及利亚': 1,\n",
       "             '接壤': 1,\n",
       "             '安卡拉': 1,\n",
       "             '兄弟会': 3,\n",
       "             '约旦河西岸': 3,\n",
       "             '阿拉伯': 2,\n",
       "             '世界': 3,\n",
       "             '中国': 4,\n",
       "             '北欧': 3,\n",
       "             '东盟': 5,\n",
       "             '欧美': 3,\n",
       "             '北美': 2,\n",
       "             '全世界': 5,\n",
       "             '本届': 1,\n",
       "             '亚太': 3,\n",
       "             '国际': 1,\n",
       "             '欧洲地区': 1,\n",
       "             '北非地区': 3,\n",
       "             '东盟国家': 1,\n",
       "             '西欧': 1,\n",
       "             '欧亚': 2,\n",
       "             '我国': 2,\n",
       "             '数字': 1,\n",
       "             '业界': 2,\n",
       "             '国产': 1,\n",
       "             '主流': 2,\n",
       "             '海外': 2,\n",
       "             '香港': 1,\n",
       "             '全国': 2,\n",
       "             '赫尔辛基': 1,\n",
       "             '北欧国家': 1,\n",
       "             '北非国家': 1,\n",
       "             '加勒比地区': 1,\n",
       "             '中亚地区': 1,\n",
       "             '友好关系': 1,\n",
       "             '发展中国家': 1,\n",
       "             '各国': 1,\n",
       "             '周边国家': 1,\n",
       "             '国外': 1,\n",
       "             '规模': 1,\n",
       "             '行业': 1,\n",
       "             '国内外': 1,\n",
       "             '外资': 1,\n",
       "             '欧美国家': 2,\n",
       "             '内塔尼亚胡': 3,\n",
       "             '库尔': 1,\n",
       "             '特鲁多': 1,\n",
       "             '祖马': 1,\n",
       "             '法塔赫': 2,\n",
       "             '乌方': 1,\n",
       "             '希土': 1,\n",
       "             '两族': 1,\n",
       "             '默克尔': 1,\n",
       "             '土耳其族': 1,\n",
       "             '防长': 1,\n",
       "             '伊': 2,\n",
       "             '绍伊古': 1,\n",
       "             '釜山': 1,\n",
       "             '危地马拉': 1,\n",
       "             '巴勒斯坦国': 2,\n",
       "             '利雅得': 2,\n",
       "             '王室': 1,\n",
       "             '巴勒斯坦人': 2,\n",
       "             '塞岛': 1,\n",
       "             '加伊': 3,\n",
       "             '塔拉': 1,\n",
       "             '哈尔': 1,\n",
       "             '黎': 1,\n",
       "             '利亚': 1,\n",
       "             '巴斯克': 1,\n",
       "             '马丘比丘': 1,\n",
       "             '阿勒': 1,\n",
       "             '毛里塔尼亚': 1,\n",
       "             '波黑': 1,\n",
       "             '非作战': 2,\n",
       "             '缅方': 2,\n",
       "             '国际合作部': 2,\n",
       "             '内阁总理': 2,\n",
       "             '陈罗': 1,\n",
       "             '纳米比亚': 1,\n",
       "             '墨尔本': 2,\n",
       "             '纽约': 4,\n",
       "             '东京': 3,\n",
       "             '巴格达': 2,\n",
       "             '斯德哥尔摩': 2,\n",
       "             '当今世界': 1,\n",
       "             '现实': 1,\n",
       "             '发达国家': 1,\n",
       "             '分裂': 1,\n",
       "             '政治经济': 1,\n",
       "             '战争': 1,\n",
       "             '批判': 1,\n",
       "             '意识形态': 1,\n",
       "             '固有': 1,\n",
       "             '世界各地': 1,\n",
       "             '通用汽车公司': 1,\n",
       "             '卫队': 1,\n",
       "             '军队': 1,\n",
       "             '穆兄会': 2,\n",
       "             '武装力量': 1,\n",
       "             '战后': 1,\n",
       "             '杜尚别': 1,\n",
       "             '中东国家': 1,\n",
       "             '恐怖组织': 1,\n",
       "             '多国': 1,\n",
       "             '外交官': 1,\n",
       "             '库尔德': 1,\n",
       "             '逊尼派': 1,\n",
       "             '恐怖分子': 1,\n",
       "             '耶路撒冷': 1,\n",
       "             '加沙': 1,\n",
       "             '定居点': 1,\n",
       "             '犹太人': 1,\n",
       "             '海地': 1,\n",
       "             '哈马斯': 1,\n",
       "             '穆斯林': 1,\n",
       "             '游行': 1,\n",
       "             '巴拉圭队': 1,\n",
       "             '法国政府': 1,\n",
       "             '德国政府': 1,\n",
       "             '联邦政府': 1,\n",
       "             '税改': 1,\n",
       "             '自由派': 1,\n",
       "             '共和党': 1,\n",
       "             '保守派': 1,\n",
       "             '改革派': 1,\n",
       "             '极右翼': 1,\n",
       "             '中间派': 1,\n",
       "             '莱希': 1,\n",
       "             '菲永': 1,\n",
       "             '阵线': 1,\n",
       "             '左翼': 1,\n",
       "             '工党': 1,\n",
       "             '梅朗雄': 1,\n",
       "             '社会党': 1,\n",
       "             '修宪派': 1,\n",
       "             '绝对多数': 1,\n",
       "             '安哲秀': 1,\n",
       "             '卡梅伦': 1,\n",
       "             '阵营': 1,\n",
       "             '右翼': 1,\n",
       "             '社会民主党': 1,\n",
       "             '青瓦台': 1,\n",
       "             '美国国务院': 1,\n",
       "             '彭斯': 1,\n",
       "             '内阁会议': 1})"
      ]
     },
     "execution_count": 104,
     "metadata": {},
     "output_type": "execute_result"
    }
   ],
   "source": [
    "related_words"
   ]
  },
  {
   "cell_type": "markdown",
   "metadata": {},
   "source": [
    "## Name Entity Recognition\n",
    "    Given a give => Person Name, Organization Name, Datetime, Location, Other"
   ]
  },
  {
   "cell_type": "markdown",
   "metadata": {},
   "source": [
    "## Part Of Speech\n",
    "   'noun', 'verb', '...'"
   ]
  },
  {
   "cell_type": "code",
   "execution_count": 106,
   "metadata": {},
   "outputs": [],
   "source": [
    "from jieba import posseg"
   ]
  },
  {
   "cell_type": "code",
   "execution_count": 107,
   "metadata": {},
   "outputs": [],
   "source": [
    "test_news_2 = \"\"\"今年是“一带一路”倡议提出五周年。五年来，中国已经同140多个国家和国际组织签署共建“一带一路”合作协议，一大批重大合作项目已经落地生根。在今年的外访和参加国际会议期间，习近平主席几乎每到一个国家都会提到“一带一路”，亲自推动“一带一路”倡议走深走实。\n",
    "\n",
    "在阿联酋，习近平强调中阿是共建“一带一路”的天然合作伙伴，中方视阿联酋为“一带一路”建设重要支点国家。在塞内加尔，习近平见证了中塞共建“一带一路”等多项双边合作文件的签署，塞内加尔也成为西非首个签署“一带一路”合作文件的国家。在卢旺达，习近平表示，中方欢迎卢方积极参与共建“一带一路”国际合作，鼓励中国企业赴卢旺达投资兴业，助力卢旺达工业化和现代化进程。在南非，习近平强调，中南双方要加强在“一带一路”和中非合作论坛框架内合作。在毛里求斯，习近平提议，发挥毛里求斯参与共建“一带一路”的独特区位优势，加强沟通对接，深化广泛领域合作。\n",
    "\n",
    "习近平今年外访收官，向国际社会传达了什么讯息？（来源：CCTV-新闻）\n",
    "△独家V观丨盛装歌舞！习近平出席巴新独立大道移交启用仪式\n",
    "巴布亚新几内亚是太平洋岛国地区首个同中方签署共建“一带一路”合作协议的国家。在巴新，习近平表示，双方要在“一带一路”框架内加强发展战略对接，争取尽早就启动双边自由贸易协定谈判达成一致。在文莱，习近平强调，中方视文莱为建设21世纪海上丝绸之路重要合作伙伴，愿将“一带一路”倡议同文莱经济多元化战略“2035宏愿”相对接。在菲律宾，习近平见证了《中华人民共和国政府与菲律宾共和国政府关于共同推进“一带一路”建设的谅解备忘录》等多项双边合作文件的签署。\n",
    "\n",
    "在西班牙，习近平表示，中西开展“一带一路”合作具有历史、地理等多重优势，要加强“一带一路”倡议同西班牙亚洲战略、地中海走廊建设等对接。在阿根廷，习近平强调，双方要在共建“一带一路”框架内加强沟通和合作，对接两国发展规划。在巴拿马，习近平指出，巴方“2030年国家物流战略”同中方共建“一带一路”倡议高度契合，双方要加强战略对接。在葡萄牙，习近平强调，双方要以签署中葡政府间共建“一带一路”合作谅解备忘录为契机，全面加强“一带一路”框架内合作，促进互联互通。\n",
    "\n",
    "习近平今年外访收官，向国际社会传达了什么讯息？△习近平在APEC工商领导人峰会上发表主旨演讲\n",
    "\n",
    "在今年的APEC工商领导人峰会上，习近平发表主旨演讲时还郑重表示，共建“一带一路”是开放的合作平台，秉持的是共商共建共享的基本原则，没有地缘政治目的，不针对谁也不排除谁，不会关起门来搞小圈子，不是有人说的这样那样的所谓“陷阱”，而是中国同世界共享机遇、共谋发展的阳光大道。中国将于明年4月在北京举办第二届“一带一路”国际合作高峰论坛。\n",
    "\n",
    "四次踏出国门，每到一地，习近平都在积极扩大“一带一路”朋友圈，寻找“一带一路”倡议和各国发展战略之间的契合点，并亲自发声排除外界对“一带一路”倡议的各种杂音。可以说，共建“一带一路”是习近平2018年外访行程的一大中心主题。\"\"\""
   ]
  },
  {
   "cell_type": "code",
   "execution_count": 108,
   "metadata": {},
   "outputs": [
    {
     "name": "stdout",
     "output_type": "stream",
     "text": [
      "\t今年/t\n",
      "\t是/v\n",
      "\t“/x\n",
      "\t一带/n\n",
      "\t一路/m\n",
      "\t”/x\n",
      "\t倡议/n\n",
      "\t提出/v\n",
      "\t五周年/m\n",
      "\t。/x\n",
      "\t五年/t\n",
      "\t来/v\n",
      "\t，/x\n",
      "\t中国/ns\n",
      "\t已经/d\n",
      "\t同/c\n",
      "\t140/m\n",
      "\t多个/m\n",
      "\t国家/n\n",
      "\t和/c\n",
      "\t国际/n\n",
      "\t组织/v\n",
      "\t签署/v\n",
      "\t共建/v\n",
      "\t“/x\n",
      "\t一带/n\n",
      "\t一路/m\n",
      "\t”/x\n",
      "\t合作/vn\n",
      "\t协议/n\n",
      "\t，/x\n",
      "\t一大批/m\n",
      "\t重大/a\n",
      "\t合作项目/n\n",
      "\t已经/d\n",
      "\t落地生根/i\n",
      "\t。/x\n",
      "\t在/p\n",
      "\t今年/t\n",
      "\t的/uj\n",
      "\t外访/v\n",
      "\t和/c\n",
      "\t参加/v\n",
      "\t国际/n\n",
      "\t会议/n\n",
      "\t期间/f\n",
      "\t，/x\n",
      "\t习近平/nrfg\n",
      "\t主席/n\n",
      "\t几乎/d\n",
      "\t每/r\n",
      "\t到/v\n",
      "\t一个/m\n",
      "\t国家/n\n",
      "\t都/d\n",
      "\t会/v\n",
      "\t提到/v\n",
      "\t“/x\n",
      "\t一带/n\n",
      "\t一路/m\n",
      "\t”/x\n",
      "\t，/x\n",
      "\t亲自/d\n",
      "\t推动/v\n",
      "\t“/x\n",
      "\t一带/n\n",
      "\t一路/m\n",
      "\t”/x\n",
      "\t倡议/n\n",
      "\t走/v\n",
      "\t深/a\n",
      "\t走/v\n",
      "\t实/v\n",
      "\t。/x\n",
      "\t\n",
      "/x\n",
      "\t\n",
      "/x\n",
      "\t在/p\n",
      "\t阿联酋/ns\n",
      "\t，/x\n",
      "\t习近平/nrfg\n",
      "\t强调/v\n",
      "\t中阿/ns\n",
      "\t是/v\n",
      "\t共建/v\n",
      "\t“/x\n",
      "\t一带/n\n",
      "\t一路/m\n",
      "\t”/x\n",
      "\t的/uj\n",
      "\t天然/b\n",
      "\t合作伙伴/n\n",
      "\t，/x\n",
      "\t中方/f\n",
      "\t视/vg\n",
      "\t阿联酋/ns\n",
      "\t为/p\n",
      "\t“/x\n",
      "\t一带/n\n",
      "\t一路/m\n",
      "\t”/x\n",
      "\t建设/vn\n",
      "\t重要/a\n",
      "\t支点/n\n",
      "\t国家/n\n",
      "\t。/x\n",
      "\t在/p\n",
      "\t塞内加尔/ns\n",
      "\t，/x\n",
      "\t习近平/nrfg\n",
      "\t见证/v\n",
      "\t了/ul\n",
      "\t中塞/ns\n",
      "\t共建/v\n",
      "\t“/x\n",
      "\t一带/n\n",
      "\t一路/m\n",
      "\t”/x\n",
      "\t等/u\n",
      "\t多项/m\n",
      "\t双边合作/n\n",
      "\t文件/n\n",
      "\t的/uj\n",
      "\t签署/v\n",
      "\t，/x\n",
      "\t塞内加尔/ns\n",
      "\t也/d\n",
      "\t成为/v\n",
      "\t西非/ns\n",
      "\t首个/m\n",
      "\t签署/v\n",
      "\t“/x\n",
      "\t一带/n\n",
      "\t一路/m\n",
      "\t”/x\n",
      "\t合作/vn\n",
      "\t文件/n\n",
      "\t的/uj\n",
      "\t国家/n\n",
      "\t。/x\n",
      "\t在/p\n",
      "\t卢旺达/nr\n",
      "\t，/x\n",
      "\t习近平/nrfg\n",
      "\t表示/v\n",
      "\t，/x\n",
      "\t中方/f\n",
      "\t欢迎/v\n",
      "\t卢方/nr\n",
      "\t积极参与/i\n",
      "\t共建/v\n",
      "\t“/x\n",
      "\t一带/n\n",
      "\t一路/m\n",
      "\t”/x\n",
      "\t国际/n\n",
      "\t合作/vn\n",
      "\t，/x\n",
      "\t鼓励/v\n",
      "\t中国/ns\n",
      "\t企业/n\n",
      "\t赴/v\n",
      "\t卢旺达/nr\n",
      "\t投资/vn\n",
      "\t兴业/n\n",
      "\t，/x\n",
      "\t助力/n\n",
      "\t卢旺达/nr\n",
      "\t工业化/vn\n",
      "\t和/c\n",
      "\t现代化/vn\n",
      "\t进程/n\n",
      "\t。/x\n",
      "\t在/p\n",
      "\t南非/ns\n",
      "\t，/x\n",
      "\t习近平/nrfg\n",
      "\t强调/v\n",
      "\t，/x\n",
      "\t中南/ns\n",
      "\t双方/n\n",
      "\t要/v\n",
      "\t加强/v\n",
      "\t在/p\n",
      "\t“/x\n",
      "\t一带/n\n",
      "\t一路/m\n",
      "\t”/x\n",
      "\t和/c\n",
      "\t中非/ns\n",
      "\t合作/vn\n",
      "\t论坛/n\n",
      "\t框架/n\n",
      "\t内/n\n",
      "\t合作/vn\n",
      "\t。/x\n",
      "\t在/p\n",
      "\t毛里求斯/ns\n",
      "\t，/x\n",
      "\t习近平/nrfg\n",
      "\t提议/v\n",
      "\t，/x\n",
      "\t发挥/v\n",
      "\t毛里求斯/ns\n",
      "\t参与/v\n",
      "\t共建/v\n",
      "\t“/x\n",
      "\t一带/n\n",
      "\t一路/m\n",
      "\t”/x\n",
      "\t的/uj\n",
      "\t独特/a\n",
      "\t区位/n\n",
      "\t优势/n\n",
      "\t，/x\n",
      "\t加强/v\n",
      "\t沟通/v\n",
      "\t对接/v\n",
      "\t，/x\n",
      "\t深化/j\n",
      "\t广泛/a\n",
      "\t领域/n\n",
      "\t合作/vn\n",
      "\t。/x\n",
      "\t\n",
      "/x\n",
      "\t\n",
      "/x\n",
      "\t习近平/nrfg\n",
      "\t今年/t\n",
      "\t外访/v\n",
      "\t收官/n\n",
      "\t，/x\n",
      "\t向/p\n",
      "\t国际/n\n",
      "\t社会/n\n",
      "\t传达/v\n",
      "\t了/ul\n",
      "\t什么/r\n",
      "\t讯息/n\n",
      "\t？/x\n",
      "\t（/x\n",
      "\t来源/n\n",
      "\t：/x\n",
      "\tCCTV/eng\n",
      "\t-/x\n",
      "\t新闻/n\n",
      "\t）/x\n",
      "\t\n",
      "/x\n",
      "\t△/x\n",
      "\t独家/n\n",
      "\tV/eng\n",
      "\t观/vg\n",
      "\t丨/zg\n",
      "\t盛装/v\n",
      "\t歌舞/n\n",
      "\t！/x\n",
      "\t习近平/nrfg\n",
      "\t出席/v\n",
      "\t巴新/ns\n",
      "\t独立/v\n",
      "\t大道/n\n",
      "\t移交/v\n",
      "\t启用/v\n",
      "\t仪式/n\n",
      "\t\n",
      "/x\n",
      "\t巴布亚新几内亚/ns\n",
      "\t是/v\n",
      "\t太平洋/ns\n",
      "\t岛国/n\n",
      "\t地区/n\n",
      "\t首个/m\n",
      "\t同/p\n",
      "\t中方/f\n",
      "\t签署/v\n",
      "\t共建/v\n",
      "\t“/x\n",
      "\t一带/n\n",
      "\t一路/m\n",
      "\t”/x\n",
      "\t合作/vn\n",
      "\t协议/n\n",
      "\t的/uj\n",
      "\t国家/n\n",
      "\t。/x\n",
      "\t在/p\n",
      "\t巴新/ns\n",
      "\t，/x\n",
      "\t习近平/nrfg\n",
      "\t表示/v\n",
      "\t，/x\n",
      "\t双方/n\n",
      "\t要/v\n",
      "\t在/p\n",
      "\t“/x\n",
      "\t一带/n\n",
      "\t一路/m\n",
      "\t”/x\n",
      "\t框架/n\n",
      "\t内/n\n",
      "\t加强/v\n",
      "\t发展/vn\n",
      "\t战略/n\n",
      "\t对接/v\n",
      "\t，/x\n",
      "\t争取/v\n",
      "\t尽早/d\n",
      "\t就/d\n",
      "\t启动/vn\n",
      "\t双边/n\n",
      "\t自由/a\n",
      "\t贸易协定/nz\n",
      "\t谈判/vn\n",
      "\t达成/v\n",
      "\t一致/d\n",
      "\t。/x\n",
      "\t在/p\n",
      "\t文莱/nr\n",
      "\t，/x\n",
      "\t习近平/nrfg\n",
      "\t强调/v\n",
      "\t，/x\n",
      "\t中方/f\n",
      "\t视/vg\n",
      "\t文莱/nr\n",
      "\t为/p\n",
      "\t建设/vn\n",
      "\t21/m\n",
      "\t世纪/n\n",
      "\t海上/s\n",
      "\t丝绸之路/l\n",
      "\t重要/a\n",
      "\t合作伙伴/n\n",
      "\t，/x\n",
      "\t愿/v\n",
      "\t将/d\n",
      "\t“/x\n",
      "\t一带/n\n",
      "\t一路/m\n",
      "\t”/x\n",
      "\t倡议/n\n",
      "\t同/p\n",
      "\t文莱/nr\n",
      "\t经济/n\n",
      "\t多元化/vn\n",
      "\t战略/n\n",
      "\t“/x\n",
      "\t2035/m\n",
      "\t宏愿/n\n",
      "\t”/x\n",
      "\t相对/d\n",
      "\t接/v\n",
      "\t。/x\n",
      "\t在/p\n",
      "\t菲律宾/ns\n",
      "\t，/x\n",
      "\t习近平/nrfg\n",
      "\t见证/v\n",
      "\t了/ul\n",
      "\t《/x\n",
      "\t中华人民共和国政府/nt\n",
      "\t与/p\n",
      "\t菲律宾共和国/ns\n",
      "\t政府/n\n",
      "\t关于/p\n",
      "\t共同/d\n",
      "\t推进/v\n",
      "\t“/x\n",
      "\t一带/n\n",
      "\t一路/m\n",
      "\t”/x\n",
      "\t建设/vn\n",
      "\t的/uj\n",
      "\t谅解/v\n",
      "\t备忘录/n\n",
      "\t》/x\n",
      "\t等/u\n",
      "\t多项/m\n",
      "\t双边合作/n\n",
      "\t文件/n\n",
      "\t的/uj\n",
      "\t签署/v\n",
      "\t。/x\n",
      "\t\n",
      "/x\n",
      "\t\n",
      "/x\n",
      "\t在/p\n",
      "\t西班牙/ns\n",
      "\t，/x\n",
      "\t习近平/nrfg\n",
      "\t表示/v\n",
      "\t，/x\n",
      "\t中西/ns\n",
      "\t开展/v\n",
      "\t“/x\n",
      "\t一带/n\n",
      "\t一路/m\n",
      "\t”/x\n",
      "\t合作/vn\n",
      "\t具有/v\n",
      "\t历史/n\n",
      "\t、/x\n",
      "\t地理/n\n",
      "\t等/u\n",
      "\t多重/m\n",
      "\t优势/n\n",
      "\t，/x\n",
      "\t要/v\n",
      "\t加强/v\n",
      "\t“/x\n",
      "\t一带/n\n",
      "\t一路/m\n",
      "\t”/x\n",
      "\t倡议/n\n",
      "\t同/p\n",
      "\t西班牙/ns\n",
      "\t亚洲/ns\n",
      "\t战略/n\n",
      "\t、/x\n",
      "\t地中海/ns\n",
      "\t走廊/n\n",
      "\t建设/vn\n",
      "\t等/u\n",
      "\t对接/v\n",
      "\t。/x\n",
      "\t在/p\n",
      "\t阿根廷/nr\n",
      "\t，/x\n",
      "\t习近平/nrfg\n",
      "\t强调/v\n",
      "\t，/x\n",
      "\t双方/n\n",
      "\t要/v\n",
      "\t在/p\n",
      "\t共建/v\n",
      "\t“/x\n",
      "\t一带/n\n",
      "\t一路/m\n",
      "\t”/x\n",
      "\t框架/n\n",
      "\t内/n\n",
      "\t加强/v\n",
      "\t沟通/v\n",
      "\t和/c\n",
      "\t合作/vn\n",
      "\t，/x\n",
      "\t对接/v\n",
      "\t两/m\n",
      "\t国/n\n",
      "\t发展/vn\n",
      "\t规划/n\n",
      "\t。/x\n",
      "\t在/p\n",
      "\t巴拿马/ns\n",
      "\t，/x\n",
      "\t习近平/nrfg\n",
      "\t指出/v\n",
      "\t，/x\n",
      "\t巴方/nr\n",
      "\t“/x\n",
      "\t2030/m\n",
      "\t年/m\n",
      "\t国家/n\n",
      "\t物流/n\n",
      "\t战略/n\n",
      "\t”/x\n",
      "\t同/p\n",
      "\t中方/f\n",
      "\t共建/v\n",
      "\t“/x\n",
      "\t一带/n\n",
      "\t一路/m\n",
      "\t”/x\n",
      "\t倡议/n\n",
      "\t高度/n\n",
      "\t契合/v\n",
      "\t，/x\n",
      "\t双方/n\n",
      "\t要/v\n",
      "\t加强/v\n",
      "\t战略/n\n",
      "\t对接/v\n",
      "\t。/x\n",
      "\t在/p\n",
      "\t葡萄牙/ns\n",
      "\t，/x\n",
      "\t习近平/nrfg\n",
      "\t强调/v\n",
      "\t，/x\n",
      "\t双方/n\n",
      "\t要/v\n",
      "\t以/p\n",
      "\t签署/v\n",
      "\t中葡/n\n",
      "\t政府/n\n",
      "\t间/f\n",
      "\t共建/v\n",
      "\t“/x\n",
      "\t一带/n\n",
      "\t一路/m\n",
      "\t”/x\n",
      "\t合作/vn\n",
      "\t谅解/v\n",
      "\t备忘录/n\n",
      "\t为/p\n",
      "\t契机/n\n",
      "\t，/x\n",
      "\t全面/n\n",
      "\t加强/v\n",
      "\t“/x\n",
      "\t一带/n\n",
      "\t一路/m\n",
      "\t”/x\n",
      "\t框架/n\n",
      "\t内/n\n",
      "\t合作/vn\n",
      "\t，/x\n",
      "\t促进/v\n",
      "\t互联互通/l\n",
      "\t。/x\n",
      "\t\n",
      "/x\n",
      "\t\n",
      "/x\n",
      "\t习近平/nrfg\n",
      "\t今年/t\n",
      "\t外访/v\n",
      "\t收官/n\n",
      "\t，/x\n",
      "\t向/p\n",
      "\t国际/n\n",
      "\t社会/n\n",
      "\t传达/v\n",
      "\t了/ul\n",
      "\t什么/r\n",
      "\t讯息/n\n",
      "\t？/x\n",
      "\t△/x\n",
      "\t习近平/nrfg\n",
      "\t在/p\n",
      "\tAPEC/eng\n",
      "\t工商/n\n",
      "\t领导人/n\n",
      "\t峰会/n\n",
      "\t上/f\n",
      "\t发表/v\n",
      "\t主旨/n\n",
      "\t演讲/v\n",
      "\t\n",
      "/x\n",
      "\t\n",
      "/x\n",
      "\t在/p\n",
      "\t今年/t\n",
      "\t的/uj\n",
      "\tAPEC/eng\n",
      "\t工商/n\n",
      "\t领导人/n\n",
      "\t峰会/n\n",
      "\t上/f\n",
      "\t，/x\n",
      "\t习近平/nrfg\n",
      "\t发表/v\n",
      "\t主旨/n\n",
      "\t演讲时/n\n",
      "\t还/d\n",
      "\t郑重/a\n",
      "\t表示/v\n",
      "\t，/x\n",
      "\t共建/v\n",
      "\t“/x\n",
      "\t一带/n\n",
      "\t一路/m\n",
      "\t”/x\n",
      "\t是/v\n",
      "\t开放/v\n",
      "\t的/uj\n",
      "\t合作/vn\n",
      "\t平台/n\n",
      "\t，/x\n",
      "\t秉持/v\n",
      "\t的/uj\n",
      "\t是/v\n",
      "\t共商/n\n",
      "\t共建/v\n",
      "\t共享/v\n",
      "\t的/uj\n",
      "\t基本/n\n",
      "\t原则/n\n",
      "\t，/x\n",
      "\t没有/v\n",
      "\t地缘/n\n",
      "\t政治/n\n",
      "\t目的/n\n",
      "\t，/x\n",
      "\t不/d\n",
      "\t针对/p\n",
      "\t谁/r\n",
      "\t也/d\n",
      "\t不/d\n",
      "\t排除/v\n",
      "\t谁/r\n",
      "\t，/x\n",
      "\t不会/v\n",
      "\t关起门来/l\n",
      "\t搞/v\n",
      "\t小圈子/nr\n",
      "\t，/x\n",
      "\t不是/c\n",
      "\t有人/r\n",
      "\t说/v\n",
      "\t的/uj\n",
      "\t这样/r\n",
      "\t那样/r\n",
      "\t的/uj\n",
      "\t所谓/b\n",
      "\t“/x\n",
      "\t陷阱/n\n",
      "\t”/x\n",
      "\t，/x\n",
      "\t而是/c\n",
      "\t中国/ns\n",
      "\t同/p\n",
      "\t世界/n\n",
      "\t共享/v\n",
      "\t机遇/n\n",
      "\t、/x\n",
      "\t共谋/n\n",
      "\t发展/vn\n",
      "\t的/uj\n",
      "\t阳光/nr\n",
      "\t大道/n\n",
      "\t。/x\n",
      "\t中国/ns\n",
      "\t将/d\n",
      "\t于/p\n",
      "\t明年/t\n",
      "\t4/m\n",
      "\t月/m\n",
      "\t在/p\n",
      "\t北京/ns\n",
      "\t举办/v\n",
      "\t第二届/m\n",
      "\t“/x\n",
      "\t一带/n\n",
      "\t一路/m\n",
      "\t”/x\n",
      "\t国际/n\n",
      "\t合作/vn\n",
      "\t高峰论坛/n\n",
      "\t。/x\n",
      "\t\n",
      "/x\n",
      "\t\n",
      "/x\n",
      "\t四次/m\n",
      "\t踏出/v\n",
      "\t国门/n\n",
      "\t，/x\n",
      "\t每到一地/l\n",
      "\t，/x\n",
      "\t习近平/nrfg\n",
      "\t都/d\n",
      "\t在/p\n",
      "\t积极/ad\n",
      "\t扩大/v\n",
      "\t“/x\n",
      "\t一带/n\n",
      "\t一路/m\n",
      "\t”/x\n",
      "\t朋友圈/n\n",
      "\t，/x\n",
      "\t寻找/v\n",
      "\t“/x\n",
      "\t一带/n\n",
      "\t一路/m\n",
      "\t”/x\n",
      "\t倡议/n\n",
      "\t和/c\n",
      "\t各国/r\n",
      "\t发展/vn\n",
      "\t战略/n\n",
      "\t之间/f\n",
      "\t的/uj\n",
      "\t契合点/n\n",
      "\t，/x\n",
      "\t并/c\n",
      "\t亲自/d\n",
      "\t发声/v\n",
      "\t排除/v\n",
      "\t外界/n\n",
      "\t对/p\n",
      "\t“/x\n",
      "\t一带/n\n",
      "\t一路/m\n",
      "\t”/x\n",
      "\t倡议/n\n",
      "\t的/uj\n",
      "\t各种/r\n",
      "\t杂音/n\n",
      "\t。/x\n",
      "\t可以/c\n",
      "\t说/v\n",
      "\t，/x\n",
      "\t共建/v\n",
      "\t“/x\n",
      "\t一带/n\n",
      "\t一路/m\n",
      "\t”/x\n",
      "\t是/v\n",
      "\t习近平/nrfg\n",
      "\t2018/m\n",
      "\t年/m\n",
      "\t外访/v\n",
      "\t行程/n\n",
      "\t的/uj\n",
      "\t一大/a\n",
      "\t中心/n\n",
      "\t主题/n\n",
      "\t。/x\n"
     ]
    }
   ],
   "source": [
    "for p in posseg.cut(test_news_2):\n",
    "    print('\\t{}'.format(p))"
   ]
  },
  {
   "cell_type": "code",
   "execution_count": null,
   "metadata": {},
   "outputs": [],
   "source": []
  }
 ],
 "metadata": {
  "kernelspec": {
   "display_name": "Python(py3)",
   "language": "python",
   "name": "py3"
  },
  "language_info": {
   "codemirror_mode": {
    "name": "ipython",
    "version": 3
   },
   "file_extension": ".py",
   "mimetype": "text/x-python",
   "name": "python",
   "nbconvert_exporter": "python",
   "pygments_lexer": "ipython3",
   "version": "3.6.7"
  }
 },
 "nbformat": 4,
 "nbformat_minor": 2
}
