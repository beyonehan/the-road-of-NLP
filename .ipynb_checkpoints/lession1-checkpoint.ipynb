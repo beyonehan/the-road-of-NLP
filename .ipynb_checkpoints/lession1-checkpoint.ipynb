{
 "cells": [
  {
   "cell_type": "code",
   "execution_count": 31,
   "metadata": {
    "collapsed": true
   },
   "outputs": [],
   "source": [
    "import random\n",
    "import networkx\n",
    "import matplotlib.pyplot as plt\n",
    "%matplotlib inline"
   ]
  },
  {
   "cell_type": "code",
   "execution_count": 39,
   "metadata": {
    "collapsed": true
   },
   "outputs": [],
   "source": [
    "#定义语法内容\n",
    "grammar = \"\"\"\n",
    "sentence = adj noun verb adj noun2\n",
    "adj = adj_single 和 adj_single 的 | null\n",
    "adj_single = 漂亮  | 蓝色 | 好看\n",
    "adv = 安静地 | 静静地\n",
    "noun = 猫 | 女人 | 男人\n",
    "verb = adv 看着 | adv 坐着 \n",
    "noun2 = 桌子 | 皮球 \n",
    "\"\"\""
   ]
  },
  {
   "cell_type": "code",
   "execution_count": 40,
   "metadata": {},
   "outputs": [
    {
     "name": "stdout",
     "output_type": "stream",
     "text": [
      "\n",
      "sentence = adj noun verb adj noun2\n",
      "adj = adj_single 和 adj_single 的 | null\n",
      "adj_single = 漂亮  | 蓝色 | 好看\n",
      "adv = 安静地 | 静静地\n",
      "noun = 猫 | 女人 | 男人\n",
      "verb = adv 看着 | adv 坐着 \n",
      "noun2 = 桌子 | 皮球 \n",
      "\n"
     ]
    }
   ],
   "source": [
    "print (grammar)"
   ]
  },
  {
   "cell_type": "code",
   "execution_count": 41,
   "metadata": {},
   "outputs": [
    {
     "name": "stdout",
     "output_type": "stream",
     "text": [
      "['', 'sentence = adj noun verb adj noun2', 'adj = adj_single 和 adj_single 的 | null', 'adj_single = 漂亮  | 蓝色 | 好看', 'adv = 安静地 | 静静地', 'noun = 猫 | 女人 | 男人', 'verb = adv 看着 | adv 坐着 ', 'noun2 = 桌子 | 皮球 ', '']\n"
     ]
    }
   ],
   "source": [
    "# 转化成为字典类型 key值分别为 sentence ,adj,adj,single , adv,noun ,verb,noun2\n",
    "\n",
    "#1.去掉换行，转化为list \n",
    "\n",
    "grammar = grammar.split('\\n')\n",
    "\n",
    "\n",
    "#2.通过'=',转化为list 里面不同key的字典\n"
   ]
  },
  {
   "cell_type": "code",
   "execution_count": 171,
   "metadata": {},
   "outputs": [
    {
     "name": "stdout",
     "output_type": "stream",
     "text": [
      "{'sentence': [['adj', 'noun', 'verb', 'adj', 'noun2']], 'adj': [['adj_single', '和', 'adj_single', '的'], ['null']], 'adj_single': [['漂亮'], ['蓝色'], ['好看']], 'adv': [['安静地'], ['静静地']], 'noun': [['猫'], ['女人'], ['男人']], 'verb': [['adv', '看着'], ['adv', '坐着']], 'noun2': [['桌子'], ['皮球']]}\n"
     ]
    }
   ],
   "source": [
    "grammar_pattern = {};\n",
    "\n",
    "for arr in grammar :\n",
    "    if  not arr : continue\n",
    "    key ,value = arr.split('=')\n",
    "    \n",
    "    #key去掉空格，value去掉'/'\n",
    "    grammar_pattern[key.strip()] = [e.split() for e in value.split('|')]\n",
    "\n",
    "#     print ('key = {},value = {}'.format(key,value))\n",
    "#     print(arr.split('='))\n",
    "    \n",
    "print(grammar_pattern)\n"
   ]
  },
  {
   "cell_type": "code",
   "execution_count": 185,
   "metadata": {
    "collapsed": true
   },
   "outputs": [],
   "source": [
    "\n",
    "def getSentence(grammar_pattern, key):\n",
    "    \n",
    "   \n",
    "   if key not in grammar_pattern :\n",
    "        \n",
    "#      print ('key {}'.format)   \n",
    "    return key\n",
    "   \n",
    "   expr = random.choice(grammar_pattern[key])\n",
    "\n",
    "   print('expr = {}'.format(expr))\n",
    "\n",
    "#    for e in expr :\n",
    "        \n",
    "#        print(grammar_pattern[e])\n",
    "    \n",
    "#        tokens = getSentence(grammar_pattern,e)\n",
    "#        print (tokens)\n",
    "   \n",
    "#    for e  in expr :\n",
    "        \n",
    "#        print(getSentence(grammar_pattern,e))\n",
    "    \n",
    "   tokens = [getSentence(grammar_pattern,e) for e in expr]\n",
    "#    print ('tokens = {}'.format(tokens))\n",
    "    \n",
    "   return ''.join([t for t in tokens if t != 'null'])\n",
    "        \n",
    "\n",
    "# print (grammar_pattern['sentence'])\n"
   ]
  },
  {
   "cell_type": "code",
   "execution_count": 186,
   "metadata": {},
   "outputs": [
    {
     "name": "stdout",
     "output_type": "stream",
     "text": [
      "expr = ['adj', 'noun', 'verb', 'adj', 'noun2']\n",
      "expr = ['null']\n",
      "expr = ['猫']\n",
      "expr = ['adv', '坐着']\n",
      "expr = ['静静地']\n",
      "expr = ['adj_single', '和', 'adj_single', '的']\n",
      "expr = ['蓝色']\n",
      "expr = ['蓝色']\n",
      "expr = ['皮球']\n"
     ]
    },
    {
     "data": {
      "text/plain": [
       "'猫静静地坐着蓝色和蓝色的皮球'"
      ]
     },
     "execution_count": 186,
     "metadata": {},
     "output_type": "execute_result"
    }
   ],
   "source": [
    "getSentence(grammar_pattern,'sentence')"
   ]
  },
  {
   "cell_type": "code",
   "execution_count": null,
   "metadata": {
    "collapsed": true
   },
   "outputs": [],
   "source": [
    "# BFS"
   ]
  },
  {
   "cell_type": "code",
   "execution_count": 10,
   "metadata": {
    "collapsed": true
   },
   "outputs": [],
   "source": [
    "#定义一个无向图\n",
    "graph = {\n",
    "    'A' :'B B B C', \n",
    "    'B' : 'A C', \n",
    "    'C' : 'A B D E',\n",
    "    'D' : 'C',\n",
    "    'E' : 'C F',\n",
    "    'F' : 'E'\n",
    "}"
   ]
  },
  {
   "cell_type": "code",
   "execution_count": 11,
   "metadata": {},
   "outputs": [
    {
     "name": "stdout",
     "output_type": "stream",
     "text": [
      "{'A': {'C', 'B'}, 'B': {'A', 'C'}, 'C': {'A', 'E', 'D', 'B'}, 'D': {'C'}, 'E': {'C', 'F'}, 'F': {'E'}}\n"
     ]
    }
   ],
   "source": [
    "#首选去重使用set , 遍历，使用set\n",
    "\n",
    "for key in graph:\n",
    "    \n",
    "     graph[key] = set(graph[key].split())\n",
    "    \n",
    "\n",
    "print(graph)"
   ]
  },
  {
   "cell_type": "code",
   "execution_count": 13,
   "metadata": {},
   "outputs": [
    {
     "name": "stdout",
     "output_type": "stream",
     "text": [
      "A 正在查看当前结点 \n",
      "C 正在查看当前结点 \n",
      "B 正在查看当前结点 \n",
      "A 改结点已经查看过了\n",
      "E 正在查看当前结点 \n",
      "D 正在查看当前结点 \n",
      "B 改结点已经查看过了\n",
      "A 改结点已经查看过了\n",
      "C 改结点已经查看过了\n",
      "C 改结点已经查看过了\n",
      "F 正在查看当前结点 \n",
      "C 改结点已经查看过了\n",
      "E 改结点已经查看过了\n"
     ]
    }
   ],
   "source": [
    "# 广度优先， 需要定义两个全局变量 已经查看的元素集合seen ,和待查看的元素结合need_check ,每次通过当前查看的结点，拿到其后面的连接点，加到need_check\n",
    "#当前结点 key\n",
    "#判断流程 是否已经查看过，每次都是取出需要查看need_check中第一个 使用pop(0),拿到当前结点，定义为current_node\n",
    "#结束条件 need_check已经为0了\n",
    "\n",
    "seen= set()\n",
    "need_check = ['A']\n",
    "\n",
    "while need_check :\n",
    "    current_node = need_check.pop(0)\n",
    "    \n",
    "  \n",
    "    if current_node in seen : \n",
    "                      print ('{} 改结点已经查看过了'.format(current_node))  \n",
    "                      continue\n",
    "                     \n",
    "    print('{} 正在查看当前结点 '.format(current_node))\n",
    "   \n",
    "    need_check += graph[current_node]\n",
    "    \n",
    "    seen.add(current_node)\n",
    "#     print('需要查看的结点 {}'.format(need_check))\n",
    "#     print ('已经查看过的 {}'.format(seen))\n",
    "    \n",
    "    \n",
    "\n"
   ]
  },
  {
   "cell_type": "code",
   "execution_count": 14,
   "metadata": {
    "collapsed": true
   },
   "outputs": [],
   "source": [
    "#深度优先，是将 广度优先的 need_check += graph[current_node]  先查看新加入的点，后查看之前的加入的点\n",
    "\n"
   ]
  },
  {
   "cell_type": "code",
   "execution_count": 20,
   "metadata": {
    "collapsed": true
   },
   "outputs": [],
   "source": [
    "# 深度优先，和广度优先的通解  已需要查看的集合的点 与 新发现的需要查看的点， 哪个放到前面的问题  将这个行为封装成一个函数，作为参数传入\n",
    "\n",
    "def breadthFirst(new_find,need_seen):\n",
    "    \n",
    "    return  need_seen + new_find \n",
    "\n",
    "\n",
    "def depthFirst(new_find,need_seen):\n",
    "    \n",
    "    return  new_find + need_seen\n",
    "\n",
    "\n",
    "def search (graph , concat_function):\n",
    "    \n",
    "    seen = set()\n",
    "    need_seen = ['1']\n",
    "    \n",
    "    while (need_seen):\n",
    "        #当前结点\n",
    "        current_node = need_seen.pop(0)\n",
    "        \n",
    "        if current_node in seen:\n",
    "            print ('{} has been seen'.format(current_node))\n",
    "            continue\n",
    "            \n",
    "         \n",
    "        print ('looking for {} '.format(current_node))\n",
    "        new_find = graph[current_node]\n",
    "        \n",
    "        need_seen = concat_function(new_find,need_seen)\n",
    "        \n",
    "        seen.add(current_node)\n",
    "           \n",
    "    "
   ]
  },
  {
   "cell_type": "code",
   "execution_count": 21,
   "metadata": {
    "collapsed": true
   },
   "outputs": [],
   "source": [
    "#定义无向长图\n",
    "graph_long = {\n",
    "    '1': '2 7',\n",
    "    '2': '3', \n",
    "    '3': '4', \n",
    "    '4': '5', \n",
    "    '5': '6 10', \n",
    "    '7': '8',\n",
    "    '6': '5',\n",
    "    '8': '9',\n",
    "    '9': '10', \n",
    "    '10': '5 11', \n",
    "    '11': '12',\n",
    "    '12': '11',\n",
    "}\n",
    "\n",
    "for n in graph_long :    graph_long[n] = graph_long[n].split()"
   ]
  },
  {
   "cell_type": "code",
   "execution_count": 22,
   "metadata": {},
   "outputs": [
    {
     "name": "stdout",
     "output_type": "stream",
     "text": [
      "{'1': ['2', '7'], '2': ['3'], '3': ['4'], '4': ['5'], '5': ['6', '10'], '7': ['8'], '6': ['5'], '8': ['9'], '9': ['10'], '10': ['5', '11'], '11': ['12'], '12': ['11']}\n"
     ]
    }
   ],
   "source": [
    "print (graph_long)"
   ]
  },
  {
   "cell_type": "code",
   "execution_count": 19,
   "metadata": {},
   "outputs": [
    {
     "name": "stdout",
     "output_type": "stream",
     "text": [
      "looking for 1 \n",
      "looking for 2 \n",
      "looking for 3 \n",
      "looking for 4 \n",
      "looking for 5 \n",
      "looking for 6 \n",
      "5 has been seen\n",
      "looking for 10 \n",
      "5 has been seen\n",
      "looking for 11 \n",
      "looking for 12 \n",
      "11 has been seen\n",
      "looking for 7 \n",
      "looking for 8 \n",
      "looking for 9 \n",
      "10 has been seen\n"
     ]
    }
   ],
   "source": [
    "search(graph_long,depthFirst)\n"
   ]
  },
  {
   "cell_type": "code",
   "execution_count": 23,
   "metadata": {},
   "outputs": [
    {
     "name": "stdout",
     "output_type": "stream",
     "text": [
      "looking for 1 \n",
      "looking for 2 \n",
      "looking for 7 \n",
      "looking for 3 \n",
      "looking for 8 \n",
      "looking for 4 \n",
      "looking for 9 \n",
      "looking for 5 \n",
      "looking for 10 \n",
      "looking for 6 \n",
      "10 has been seen\n",
      "5 has been seen\n",
      "looking for 11 \n",
      "5 has been seen\n",
      "looking for 12 \n",
      "11 has been seen\n"
     ]
    }
   ],
   "source": [
    "search(graph_long,breadthFirst)"
   ]
  },
  {
   "cell_type": "code",
   "execution_count": 24,
   "metadata": {
    "collapsed": true
   },
   "outputs": [],
   "source": [
    "#更加简洁的做法\n",
    "from functools import partial"
   ]
  },
  {
   "cell_type": "code",
   "execution_count": 26,
   "metadata": {
    "collapsed": true
   },
   "outputs": [],
   "source": [
    "dfs = partial(search,concat_function = depthFirst)"
   ]
  },
  {
   "cell_type": "code",
   "execution_count": 27,
   "metadata": {},
   "outputs": [
    {
     "name": "stdout",
     "output_type": "stream",
     "text": [
      "looking for 1 \n",
      "looking for 2 \n",
      "looking for 3 \n",
      "looking for 4 \n",
      "looking for 5 \n",
      "looking for 6 \n",
      "5 has been seen\n",
      "looking for 10 \n",
      "5 has been seen\n",
      "looking for 11 \n",
      "looking for 12 \n",
      "11 has been seen\n",
      "looking for 7 \n",
      "looking for 8 \n",
      "looking for 9 \n",
      "10 has been seen\n"
     ]
    }
   ],
   "source": [
    "dfs(graph_long)"
   ]
  },
  {
   "cell_type": "code",
   "execution_count": 28,
   "metadata": {},
   "outputs": [
    {
     "name": "stdout",
     "output_type": "stream",
     "text": [
      "looking for 1 \n",
      "looking for 2 \n",
      "looking for 3 \n",
      "looking for 4 \n",
      "looking for 5 \n",
      "looking for 6 \n",
      "5 has been seen\n",
      "looking for 10 \n",
      "5 has been seen\n",
      "looking for 11 \n",
      "looking for 12 \n",
      "11 has been seen\n",
      "looking for 7 \n",
      "looking for 8 \n",
      "looking for 9 \n",
      "10 has been seen\n"
     ]
    }
   ],
   "source": [
    "bfc = partial(search,concat_function = breadthFirst)\n",
    "\n",
    "dfs(graph_long)"
   ]
  },
  {
   "cell_type": "code",
   "execution_count": 37,
   "metadata": {
    "collapsed": true
   },
   "outputs": [],
   "source": [
    "#图 mapping\n",
    "BJ = 'Beijing'\n",
    "SZ = 'Shenzhen'\n",
    "GZ = 'Guangzhou'\n",
    "WH = 'Wuhan'\n",
    "HLG = 'Heilongjiang'\n",
    "NY = 'New York City'\n",
    "CM = 'Chiangmai'\n",
    "SG = 'Singapore'\n",
    "\n",
    "air_route = {\n",
    "    BJ : {SZ, GZ, WH, HLG, NY}, \n",
    "    GZ : {WH, BJ, CM, SG},\n",
    "    SZ : {BJ, SG},\n",
    "    WH : {BJ, GZ},\n",
    "    HLG : {BJ},\n",
    "    CM : {GZ},\n",
    "    NY : {BJ}\n",
    "}"
   ]
  },
  {
   "cell_type": "code",
   "execution_count": 33,
   "metadata": {},
   "outputs": [
    {
     "data": {
      "image/png": "[encoded data removed]",
      "text/plain": [
       "<Figure size 432x288 with 1 Axes>"
      ]
     },
     "metadata": {},
     "output_type": "display_data"
    }
   ],
   "source": [
    "air_route = networkx.Graph(air_route)\n",
    "networkx.draw(air_route,with_labels = True)"
   ]
  },
  {
   "cell_type": "code",
   "execution_count": 74,
   "metadata": {},
   "outputs": [],
   "source": [
    "def search_targetPlace(start,target,graph):\n",
    "    \n",
    "    #相当于需要去访问的点\n",
    "    \n",
    "    seen = set()\n",
    "    \n",
    "    choosePaths = []\n",
    "    \n",
    "    pathes = [start]\n",
    "    \n",
    "    while target not in choosePaths:\n",
    "        \n",
    "        current_place = pathes.pop(0)\n",
    "        \n",
    "        print (current_place)\n",
    "        \n",
    "        if current_place in  seen:\n",
    "            \n",
    "#             print ('{} already choosen'.format(current_place))\n",
    "            continue\n",
    "           \n",
    "        choosePaths.append(current_place)\n",
    "        \n",
    "        \n",
    "        seen.add(current_place)\n",
    "        \n",
    "        if current_place in graph:\n",
    "            \n",
    "           pathes += graph[current_place] \n",
    "\n",
    "        \n",
    "    return choosePaths\n",
    "        \n",
    "    \n",
    "    "
   ]
  },
  {
   "cell_type": "code",
   "execution_count": 75,
   "metadata": {},
   "outputs": [
    {
     "name": "stdout",
     "output_type": "stream",
     "text": [
      "Beijing\n",
      "Wuhan\n",
      "Heilongjiang\n",
      "New York City\n",
      "Shenzhen\n",
      "Guangzhou\n",
      "Guangzhou\n",
      "Beijing\n",
      "Beijing\n",
      "Beijing\n",
      "Singapore\n",
      "Beijing\n",
      "Singapore\n",
      "Chiangmai\n",
      "['Beijing', 'Wuhan', 'Heilongjiang', 'New York City', 'Shenzhen', 'Guangzhou', 'Singapore', 'Chiangmai']\n"
     ]
    }
   ],
   "source": [
    "print ( search_targetPlace(BJ,CM,air_route))"
   ]
  },
  {
   "cell_type": "code",
   "execution_count": 76,
   "metadata": {
    "collapsed": true
   },
   "outputs": [],
   "source": [
    "def draw_route(cities): return ' ✈️ -> '.join(cities)"
   ]
  },
  {
   "cell_type": "code",
   "execution_count": 62,
   "metadata": {},
   "outputs": [
    {
     "name": "stdout",
     "output_type": "stream",
     "text": [
      "Shenzhen\n",
      "Singapore\n",
      "Beijing\n",
      "Wuhan\n",
      "Heilongjiang\n",
      "New York City\n",
      "Shenzhen\n",
      "Guangzhou\n",
      "Guangzhou\n",
      "Beijing\n",
      "Beijing\n",
      "Beijing\n",
      "Singapore\n",
      "Chiangmai\n"
     ]
    },
    {
     "data": {
      "text/plain": [
       "'Shenzhen ✈️ -> Singapore ✈️ -> Beijing ✈️ -> Wuhan ✈️ -> Heilongjiang ✈️ -> New York City ✈️ -> Guangzhou ✈️ -> Chiangmai'"
      ]
     },
     "execution_count": 62,
     "metadata": {},
     "output_type": "execute_result"
    }
   ],
   "source": [
    "draw_route(search_targetPlace(SZ,CM,air_route))"
   ]
  },
  {
   "cell_type": "code",
   "execution_count": null,
   "metadata": {
    "collapsed": true
   },
   "outputs": [],
   "source": []
  }
 ],
 "metadata": {
  "kernelspec": {
   "display_name": "Python(py3)",
   "language": "python",
   "name": "py3"
  },
  "language_info": {
   "codemirror_mode": {
    "name": "ipython",
    "version": 3
   },
   "file_extension": ".py",
   "mimetype": "text/x-python",
   "name": "python",
   "nbconvert_exporter": "python",
   "pygments_lexer": "ipython3",
   "version": "3.6.3"
  }
 },
 "nbformat": 4,
 "nbformat_minor": 2
}
